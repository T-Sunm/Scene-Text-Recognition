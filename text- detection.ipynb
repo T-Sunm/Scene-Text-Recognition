{
 "cells": [
  {
   "cell_type": "markdown",
   "metadata": {},
   "source": [
    "### Trích xuất thông tin từ XML"
   ]
  },
  {
   "cell_type": "code",
   "execution_count": 13,
   "metadata": {},
   "outputs": [],
   "source": [
    "import xml.etree.ElementTree as ET\n",
    "import os"
   ]
  },
  {
   "cell_type": "code",
   "execution_count": 14,
   "metadata": {},
   "outputs": [
    {
     "name": "stdout",
     "output_type": "stream",
     "text": [
      "img__paths icdar2003\\SceneTrialTrain\\apanar_06.08.2002/IMG_1261.JPG\n",
      "img_sizes [1600.0, 1200.0]\n",
      "img_labels ['self', 'adhesive', 'address', 'labels', '36', '89m', 'cls', '250', 'on', 'a', 'roll']\n",
      "bboxs [[174.0, 392.0, 274.0, 195.0], [512.0, 391.0, 679.0, 183.0], [184.0, 612.0, 622.0, 174.0], [863.0, 599.0, 446.0, 187.0], [72.0, 6.0, 95.0, 87.0], [247.0, 2.0, 197.0, 88.0], [792.0, 0.0, 115.0, 81.0], [200.0, 848.0, 228.0, 139.0], [473.0, 878.0, 165.0, 109.0], [684.0, 878.0, 71.0, 106.0], [806.0, 844.0, 218.0, 141.0]]\n"
     ]
    }
   ],
   "source": [
    "def extract_data_from_xml(rootdir, xml_file):\n",
    "    tree = ET.parse(os.path.join(rootdir, xml_file))\n",
    "    root = tree.getroot()\n",
    "    data = []\n",
    "    \n",
    "    img_paths = []\n",
    "    img_sizes = []\n",
    "    img_labels = []\n",
    "    bboxs = []\n",
    "\n",
    "    for img in root:\n",
    "        bbs_of_img = []\n",
    "        labels_of_img = []\n",
    "\n",
    "        for bbs in img.findall('taggedRectangles'):\n",
    "            for bb in bbs.findall('taggedRectangle'):\n",
    "                x = float(bb.attrib['x'])\n",
    "                y = float(bb.attrib['y'])\n",
    "                w = float(bb.attrib['width'])\n",
    "                h = float(bb.attrib['height'])\n",
    "                bbs_of_img.append([x, y, w, h])\n",
    "                labels_of_img.append(bb[0].text.lower())\n",
    "\n",
    "        img_paths.append(os.path.join(rootdir, img[0].text))\n",
    "        img_labels.append(labels_of_img)\n",
    "        img_sizes.append([float(img[1].attrib['x']),\n",
    "                         float(img[1].attrib['y'])])\n",
    "        bboxs.append(bbs_of_img)\n",
    "\n",
    "    return img_paths, img_sizes, img_labels, bboxs\n",
    "img_paths, img_sizes, img_labels, bboxs = extract_data_from_xml('icdar2003\\SceneTrialTrain','words.xml')\n",
    "print(\"img__paths\",img_paths[0])\n",
    "print(\"img_sizes\",img_sizes[0])\n",
    "print(\"img_labels\",img_labels[0])\n",
    "print(\"bboxs\",bboxs[0])"
   ]
  },
  {
   "cell_type": "markdown",
   "metadata": {},
   "source": [
    "### Chuyển đổi sang định dạng YOLOv11"
   ]
  },
  {
   "cell_type": "code",
   "execution_count": 15,
   "metadata": {},
   "outputs": [
    {
     "data": {
      "text/plain": [
       "('icdar2003\\\\SceneTrialTrain\\\\apanar_06.08.2002/IMG_1261.JPG',\n",
       " ['0 0.194375 0.40791666666666665 0.17125 0.1625',\n",
       "  '0 0.5321875 0.40208333333333335 0.424375 0.1525',\n",
       "  '0 0.309375 0.5825 0.38875 0.145',\n",
       "  '0 0.67875 0.5770833333333333 0.27875 0.15583333333333332',\n",
       "  '0 0.0746875 0.04125 0.059375 0.0725',\n",
       "  '0 0.2159375 0.03833333333333333 0.123125 0.07333333333333333',\n",
       "  '0 0.5309375 0.03375 0.071875 0.0675',\n",
       "  '0 0.19625 0.7645833333333333 0.1425 0.11583333333333333',\n",
       "  '0 0.3471875 0.7770833333333333 0.103125 0.09083333333333334',\n",
       "  '0 0.4496875 0.7758333333333334 0.044375 0.08833333333333333',\n",
       "  '0 0.571875 0.7620833333333333 0.13625 0.1175'])"
      ]
     },
     "execution_count": 15,
     "metadata": {},
     "output_type": "execute_result"
    }
   ],
   "source": [
    "def convert_to_yolo_format(img_paths, img_sizes, bboxs):\n",
    "    yolo_data = []\n",
    "    for i in range(len(bboxs)):\n",
    "        data_img = []\n",
    "        w_img, h_img = img_sizes[i]\n",
    "        for bbox in bboxs[i]:\n",
    "            x = bbox[0]\n",
    "            y = bbox[1]\n",
    "            w = bbox[2]\n",
    "            h = bbox[3]\n",
    "\n",
    "            # Convert to x_center, y_center, w, h\n",
    "            x_center = x + w / 2\n",
    "            y_center = y + h / 2\n",
    "\n",
    "            # Normalize\n",
    "            x_center /= w_img\n",
    "            y_center /= h_img\n",
    "            w /= w_img\n",
    "            h /= h_img\n",
    "\n",
    "            # Because we only have one class, we set class_id to 0\n",
    "            label = 0\n",
    "\n",
    "            # Format YOLO label\n",
    "            yolo_label = f\"{label} {x_center} {y_center} {w} {h}\"\n",
    "            data_img.append(yolo_label)\n",
    "        yolo_data.append((img_paths[i], data_img))\n",
    "    return yolo_data\n",
    "\n",
    "\n",
    "# Define class labels\n",
    "class_labels = [\"text\"]\n",
    "\n",
    "yolo_data = convert_to_yolo_format(img_paths, img_sizes, bboxs)\n",
    "yolo_data[0]"
   ]
  },
  {
   "cell_type": "markdown",
   "metadata": {},
   "source": [
    "### Lưu vào folder mới"
   ]
  },
  {
   "cell_type": "code",
   "execution_count": 16,
   "metadata": {},
   "outputs": [],
   "source": [
    "from  sklearn.model_selection import train_test_split\n",
    "import shutil\n",
    "def save_yolo_data_dir(data, save_dir):\n",
    "    os.makedirs(save_dir, exist_ok=True)\n",
    "\n",
    "    os.makedirs(os.path.join(save_dir, \"images\"), exist_ok=True)\n",
    "    os.makedirs(os.path.join(save_dir, \"labels\"), exist_ok=True)\n",
    "\n",
    "    for image_path, yolo_labels in data:\n",
    "\n",
    "        # Sao chép tệp ảnh từ thư mục gốc sang thư mục yolo\n",
    "        shutil.copy(image_path, os.path.join(save_dir, \"images\"))\n",
    "\n",
    "        # lấy tên file ảnh và tên file label\n",
    "        image_name = os.path.basename(image_path)\n",
    "        label_name = os.path.splitext(image_name)[0]\n",
    "\n",
    "        with open(os.path.join(save_dir, \"labels\", f\"{label_name}.txt\"), \"w\") as f:\n",
    "            for yolo_label in yolo_labels:\n",
    "                f.write(yolo_label + \"\\n\")\n",
    "\n",
    "seed = 0\n",
    "val_size = 0.2\n",
    "test_size = 0.125\n",
    "is_shuffle = True\n",
    "\n",
    "train_data, val_data = train_test_split(\n",
    "    yolo_data, test_size=val_size, random_state=seed, shuffle=is_shuffle)\n",
    "\n",
    "train_data, test_data = train_test_split(\n",
    "    train_data, test_size=test_size, random_state=seed, shuffle=is_shuffle)\n",
    "\n",
    "save_dir = 'datasets/yolo_data'\n",
    "os.makedirs(save_dir, exist_ok=True)\n",
    "save_train_dir = os.path.join(save_dir, 'train')\n",
    "save_val_dir = os.path.join(save_dir, 'val')\n",
    "save_test_dir = os.path.join(save_dir, 'test')\n",
    "\n",
    "save_yolo_data_dir(train_data, save_train_dir)\n",
    "save_yolo_data_dir(val_data, save_val_dir)\n",
    "save_yolo_data_dir(test_data, save_test_dir)"
   ]
  },
  {
   "cell_type": "markdown",
   "metadata": {},
   "source": [
    "#### Test yolo images and labels"
   ]
  },
  {
   "cell_type": "code",
   "execution_count": 17,
   "metadata": {},
   "outputs": [],
   "source": [
    "# import cv2\n",
    "# import os\n",
    "\n",
    "# # Đường dẫn tới ảnh và file label\n",
    "# image_path = \"datasets/yolo_data/train/images/036._.jpg\"  # Đường dẫn tới ảnh cụ thể\n",
    "# # Đường dẫn tới file label tương ứng\n",
    "# label_path = \"datasets/yolo_data/train/labels/036._.txt\"\n",
    "\n",
    "# # Hàm đọc và hiển thị bounding box trên ảnh\n",
    "# def visualize_yolo_label(image_path, label_path):\n",
    "#     # Đọc ảnh\n",
    "#     image = cv2.imread(image_path)\n",
    "#     if image is None:\n",
    "#         print(f\"Không thể đọc ảnh: {image_path}\")\n",
    "#         return\n",
    "\n",
    "#     # Lấy kích thước ảnh\n",
    "#     height, width, _ = image.shape\n",
    "\n",
    "#     # Đọc file label\n",
    "#     with open(label_path, \"r\") as f:\n",
    "#         labels = f.readlines()\n",
    "\n",
    "#     # Vẽ bounding box đầu tiên lên ảnh (1 bounding box)\n",
    "#     if labels:\n",
    "#         label = labels[0]  # Chỉ đọc bounding box đầu tiên\n",
    "#         parts = label.strip().split()\n",
    "#         class_id = int(parts[0])  # ID lớp\n",
    "#         center_x, center_y, box_width, box_height = map(float, parts[1:])\n",
    "\n",
    "#         # Chuyển đổi từ tọa độ chuẩn hóa sang tọa độ pixel\n",
    "#         x1 = int((center_x - box_width / 2) * width)\n",
    "#         y1 = int((center_y - box_height / 2) * height)\n",
    "#         x2 = int((center_x + box_width / 2) * width)\n",
    "#         y2 = int((center_y + box_height / 2) * height)\n",
    "\n",
    "#         # Vẽ hình chữ nhật lên ảnh\n",
    "#         cv2.rectangle(image, (x1, y1), (x2, y2), (0, 255, 0), 2)\n",
    "#         cv2.putText(image, f\"Class {class_id}\", (x1, y1 - 10),\n",
    "#                     cv2.FONT_HERSHEY_SIMPLEX, 0.5, (0, 255, 0), 2)\n",
    "#     else:\n",
    "#         print(f\"File label không chứa bounding box: {label_path}\")\n",
    "\n",
    "#     cv2.imshow(\"YOLO Visualization\", image)\n",
    "#     cv2.waitKey(0)\n",
    "#     cv2.destroyAllWindows()\n",
    "\n",
    "\n",
    "# if os.path.exists(image_path) and os.path.exists(label_path):\n",
    "#     visualize_yolo_label(image_path, label_path)\n",
    "# else:\n",
    "#     print(f\"Không tìm thấy ảnh hoặc file label!\")"
   ]
  },
  {
   "cell_type": "markdown",
   "metadata": {},
   "source": [
    "### Tạo file yaml\n",
    "- names: tên của các class.\n",
    "- nc: số lượng các class.\n",
    "- path: đường dẫn đến thư mục gốc.\n",
    "- train, test, val: đường dẫn đến các thư mục tương ứng."
   ]
  },
  {
   "cell_type": "code",
   "execution_count": 18,
   "metadata": {},
   "outputs": [],
   "source": [
    "import yaml\n",
    "# Create data.yaml\n",
    "data_yaml = {\n",
    "    \"path\": \"./datasets/yolo_data\",\n",
    "    \"train\": \"train/images\",\n",
    "    \"val\": \"val/images\",\n",
    "    \"test\": \"test/images\",\n",
    "    \"nc\": 1,\n",
    "    \"names\": class_labels\n",
    "}\n",
    "\n",
    "yolo_yaml_path = os.path.join(save_dir, \"data.yaml\")\n",
    "with open(yolo_yaml_path, \"w\") as f:\n",
    "    yaml.dump(data_yaml, f)"
   ]
  }
 ],
 "metadata": {
  "kernelspec": {
   "display_name": "AIOEx",
   "language": "python",
   "name": "python3"
  },
  "language_info": {
   "codemirror_mode": {
    "name": "ipython",
    "version": 3
   },
   "file_extension": ".py",
   "mimetype": "text/x-python",
   "name": "python",
   "nbconvert_exporter": "python",
   "pygments_lexer": "ipython3",
   "version": "3.10.15"
  }
 },
 "nbformat": 4,
 "nbformat_minor": 2
}
