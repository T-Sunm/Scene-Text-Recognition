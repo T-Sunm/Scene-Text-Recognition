{
 "cells": [
  {
   "cell_type": "code",
   "execution_count": 1,
   "id": "e4f09cfb",
   "metadata": {
    "execution": {
     "iopub.execute_input": "2025-01-09T14:17:23.348554Z",
     "iopub.status.busy": "2025-01-09T14:17:23.348310Z",
     "iopub.status.idle": "2025-01-09T14:17:24.621321Z",
     "shell.execute_reply": "2025-01-09T14:17:24.619311Z"
    },
    "papermill": {
     "duration": 1.281437,
     "end_time": "2025-01-09T14:17:24.622803",
     "exception": false,
     "start_time": "2025-01-09T14:17:23.341366",
     "status": "completed"
    },
    "tags": []
   },
   "outputs": [
    {
     "name": "stdout",
     "output_type": "stream",
     "text": [
      "/kaggle/input/icdar2003/SceneTrialTrain/segmentation.xml\n",
      "/kaggle/input/icdar2003/SceneTrialTrain/words.xml\n",
      "/kaggle/input/icdar2003/SceneTrialTrain/locations.xml\n",
      "/kaggle/input/icdar2003/SceneTrialTrain/lfsosa_12.08.2002/IMG_2523.JPG\n",
      "/kaggle/input/icdar2003/SceneTrialTrain/lfsosa_12.08.2002/IMG_2480.JPG\n",
      "/kaggle/input/icdar2003/SceneTrialTrain/lfsosa_12.08.2002/IMG_2553.JPG\n",
      "/kaggle/input/icdar2003/SceneTrialTrain/lfsosa_12.08.2002/IMG_2619.JPG\n",
      "/kaggle/input/icdar2003/SceneTrialTrain/lfsosa_12.08.2002/IMG_2526.JPG\n",
      "/kaggle/input/icdar2003/SceneTrialTrain/lfsosa_12.08.2002/IMG_2607.JPG\n",
      "/kaggle/input/icdar2003/SceneTrialTrain/lfsosa_12.08.2002/IMG_2679.JPG\n",
      "/kaggle/input/icdar2003/SceneTrialTrain/lfsosa_12.08.2002/IMG_2670.JPG\n",
      "/kaggle/input/icdar2003/SceneTrialTrain/lfsosa_12.08.2002/IMG_2660.JPG\n",
      "/kaggle/input/icdar2003/SceneTrialTrain/lfsosa_12.08.2002/IMG_2533.JPG\n",
      "/kaggle/input/icdar2003/SceneTrialTrain/lfsosa_12.08.2002/IMG_2491.JPG\n",
      "/kaggle/input/icdar2003/SceneTrialTrain/lfsosa_12.08.2002/IMG_2673.JPG\n",
      "/kaggle/input/icdar2003/SceneTrialTrain/lfsosa_12.08.2002/IMG_2624.JPG\n",
      "/kaggle/input/icdar2003/SceneTrialTrain/lfsosa_12.08.2002/IMG_2555.JPG\n",
      "/kaggle/input/icdar2003/SceneTrialTrain/lfsosa_12.08.2002/IMG_2539.JPG\n",
      "/kaggle/input/icdar2003/SceneTrialTrain/lfsosa_12.08.2002/IMG_2672.JPG\n",
      "/kaggle/input/icdar2003/SceneTrialTrain/lfsosa_12.08.2002/IMG_2630.JPG\n",
      "/kaggle/input/icdar2003/SceneTrialTrain/lfsosa_12.08.2002/IMG_2683.JPG\n",
      "/kaggle/input/icdar2003/SceneTrialTrain/lfsosa_12.08.2002/IMG_2531.JPG\n",
      "/kaggle/input/icdar2003/SceneTrialTrain/lfsosa_12.08.2002/IMG_2525.JPG\n",
      "/kaggle/input/icdar2003/SceneTrialTrain/lfsosa_12.08.2002/IMG_2631.JPG\n",
      "/kaggle/input/icdar2003/SceneTrialTrain/lfsosa_12.08.2002/IMG_2617.JPG\n",
      "/kaggle/input/icdar2003/SceneTrialTrain/lfsosa_12.08.2002/IMG_2597.JPG\n",
      "/kaggle/input/icdar2003/SceneTrialTrain/lfsosa_12.08.2002/IMG_2461.JPG\n",
      "/kaggle/input/icdar2003/SceneTrialTrain/lfsosa_12.08.2002/IMG_2511.JPG\n",
      "/kaggle/input/icdar2003/SceneTrialTrain/lfsosa_12.08.2002/IMG_2676.JPG\n",
      "/kaggle/input/icdar2003/SceneTrialTrain/lfsosa_12.08.2002/IMG_2548.JPG\n",
      "/kaggle/input/icdar2003/SceneTrialTrain/lfsosa_12.08.2002/IMG_2655.JPG\n",
      "/kaggle/input/icdar2003/SceneTrialTrain/lfsosa_12.08.2002/IMG_2669.JPG\n",
      "/kaggle/input/icdar2003/SceneTrialTrain/lfsosa_12.08.2002/IMG_2495.JPG\n",
      "/kaggle/input/icdar2003/SceneTrialTrain/lfsosa_12.08.2002/IMG_2472.JPG\n",
      "/kaggle/input/icdar2003/SceneTrialTrain/lfsosa_12.08.2002/IMG_2521.JPG\n",
      "/kaggle/input/icdar2003/SceneTrialTrain/lfsosa_12.08.2002/IMG_2637.JPG\n",
      "/kaggle/input/icdar2003/SceneTrialTrain/lfsosa_12.08.2002/IMG_2593.JPG\n",
      "/kaggle/input/icdar2003/SceneTrialTrain/lfsosa_12.08.2002/IMG_2564.JPG\n",
      "/kaggle/input/icdar2003/SceneTrialTrain/lfsosa_12.08.2002/IMG_2493.JPG\n",
      "/kaggle/input/icdar2003/SceneTrialTrain/lfsosa_12.08.2002/IMG_2671.JPG\n",
      "/kaggle/input/icdar2003/SceneTrialTrain/lfsosa_12.08.2002/IMG_2512.JPG\n",
      "/kaggle/input/icdar2003/SceneTrialTrain/lfsosa_12.08.2002/IMG_2573.JPG\n",
      "/kaggle/input/icdar2003/SceneTrialTrain/lfsosa_12.08.2002/IMG_2520.JPG\n",
      "/kaggle/input/icdar2003/SceneTrialTrain/lfsosa_12.08.2002/IMG_2566.JPG\n",
      "/kaggle/input/icdar2003/SceneTrialTrain/lfsosa_12.08.2002/IMG_2620.JPG\n",
      "/kaggle/input/icdar2003/SceneTrialTrain/lfsosa_12.08.2002/IMG_2569.JPG\n",
      "/kaggle/input/icdar2003/SceneTrialTrain/lfsosa_12.08.2002/IMG_2595.JPG\n",
      "/kaggle/input/icdar2003/SceneTrialTrain/lfsosa_12.08.2002/IMG_2484.JPG\n",
      "/kaggle/input/icdar2003/SceneTrialTrain/lfsosa_12.08.2002/IMG_2463.JPG\n",
      "/kaggle/input/icdar2003/SceneTrialTrain/lfsosa_12.08.2002/IMG_2614.JPG\n",
      "/kaggle/input/icdar2003/SceneTrialTrain/lfsosa_12.08.2002/IMG_2654.JPG\n",
      "/kaggle/input/icdar2003/SceneTrialTrain/lfsosa_12.08.2002/IMG_2528.JPG\n",
      "/kaggle/input/icdar2003/SceneTrialTrain/lfsosa_12.08.2002/IMG_2498.JPG\n",
      "/kaggle/input/icdar2003/SceneTrialTrain/lfsosa_12.08.2002/IMG_2644.JPG\n",
      "/kaggle/input/icdar2003/SceneTrialTrain/lfsosa_12.08.2002/IMG_2561.JPG\n",
      "/kaggle/input/icdar2003/SceneTrialTrain/lfsosa_12.08.2002/IMG_2585.JPG\n",
      "/kaggle/input/icdar2003/SceneTrialTrain/lfsosa_12.08.2002/IMG_2616.JPG\n",
      "/kaggle/input/icdar2003/SceneTrialTrain/lfsosa_12.08.2002/IMG_2565.JPG\n",
      "/kaggle/input/icdar2003/SceneTrialTrain/lfsosa_12.08.2002/IMG_2662.JPG\n",
      "/kaggle/input/icdar2003/SceneTrialTrain/lfsosa_12.08.2002/IMG_2629.JPG\n",
      "/kaggle/input/icdar2003/SceneTrialTrain/lfsosa_12.08.2002/IMG_2473.JPG\n",
      "/kaggle/input/icdar2003/SceneTrialTrain/lfsosa_12.08.2002/IMG_2675.JPG\n",
      "/kaggle/input/icdar2003/SceneTrialTrain/lfsosa_12.08.2002/IMG_2594.JPG\n",
      "/kaggle/input/icdar2003/SceneTrialTrain/lfsosa_12.08.2002/IMG_2544.JPG\n",
      "/kaggle/input/icdar2003/SceneTrialTrain/lfsosa_12.08.2002/IMG_2546.JPG\n",
      "/kaggle/input/icdar2003/SceneTrialTrain/lfsosa_12.08.2002/IMG_2514.JPG\n",
      "/kaggle/input/icdar2003/SceneTrialTrain/lfsosa_12.08.2002/IMG_2477.JPG\n",
      "/kaggle/input/icdar2003/SceneTrialTrain/lfsosa_12.08.2002/IMG_2524.JPG\n",
      "/kaggle/input/icdar2003/SceneTrialTrain/lfsosa_12.08.2002/IMG_2599.JPG\n",
      "/kaggle/input/icdar2003/SceneTrialTrain/lfsosa_12.08.2002/IMG_2552.JPG\n",
      "/kaggle/input/icdar2003/SceneTrialTrain/lfsosa_12.08.2002/IMG_2639.JPG\n",
      "/kaggle/input/icdar2003/SceneTrialTrain/lfsosa_12.08.2002/IMG_2502.JPG\n",
      "/kaggle/input/icdar2003/SceneTrialTrain/lfsosa_12.08.2002/IMG_2487.JPG\n",
      "/kaggle/input/icdar2003/SceneTrialTrain/lfsosa_12.08.2002/IMG_2483.JPG\n",
      "/kaggle/input/icdar2003/SceneTrialTrain/lfsosa_12.08.2002/IMG_2622.JPG\n",
      "/kaggle/input/icdar2003/SceneTrialTrain/lfsosa_12.08.2002/IMG_2535.JPG\n",
      "/kaggle/input/icdar2003/SceneTrialTrain/lfsosa_12.08.2002/IMG_2522.JPG\n",
      "/kaggle/input/icdar2003/SceneTrialTrain/lfsosa_12.08.2002/IMG_2634.JPG\n",
      "/kaggle/input/icdar2003/SceneTrialTrain/lfsosa_12.08.2002/IMG_2604.JPG\n",
      "/kaggle/input/icdar2003/SceneTrialTrain/lfsosa_12.08.2002/IMG_2537.JPG\n",
      "/kaggle/input/icdar2003/SceneTrialTrain/lfsosa_12.08.2002/IMG_2588.JPG\n",
      "/kaggle/input/icdar2003/SceneTrialTrain/lfsosa_12.08.2002/IMG_2613.JPG\n",
      "/kaggle/input/icdar2003/SceneTrialTrain/lfsosa_12.08.2002/IMG_2507.JPG\n",
      "/kaggle/input/icdar2003/SceneTrialTrain/lfsosa_12.08.2002/IMG_2645.JPG\n",
      "/kaggle/input/icdar2003/SceneTrialTrain/lfsosa_12.08.2002/IMG_2516.JPG\n",
      "/kaggle/input/icdar2003/SceneTrialTrain/lfsosa_12.08.2002/IMG_2646.JPG\n",
      "/kaggle/input/icdar2003/SceneTrialTrain/lfsosa_12.08.2002/IMG_2541.JPG\n",
      "/kaggle/input/icdar2003/SceneTrialTrain/lfsosa_12.08.2002/IMG_2013.jpg\n",
      "/kaggle/input/icdar2003/SceneTrialTrain/lfsosa_12.08.2002/IMG_2542.JPG\n",
      "/kaggle/input/icdar2003/SceneTrialTrain/lfsosa_12.08.2002/IMG_2460.JPG\n",
      "/kaggle/input/icdar2003/SceneTrialTrain/lfsosa_12.08.2002/IMG_2648.JPG\n",
      "/kaggle/input/icdar2003/SceneTrialTrain/lfsosa_12.08.2002/IMG_2641.JPG\n",
      "/kaggle/input/icdar2003/SceneTrialTrain/lfsosa_12.08.2002/IMG_2628.JPG\n",
      "/kaggle/input/icdar2003/SceneTrialTrain/lfsosa_12.08.2002/IMG_2626.JPG\n",
      "/kaggle/input/icdar2003/SceneTrialTrain/lfsosa_12.08.2002/IMG_2486.JPG\n",
      "/kaggle/input/icdar2003/SceneTrialTrain/lfsosa_12.08.2002/IMG_2653.JPG\n",
      "/kaggle/input/icdar2003/SceneTrialTrain/lfsosa_12.08.2002/IMG_2678.JPG\n",
      "/kaggle/input/icdar2003/SceneTrialTrain/lfsosa_12.08.2002/IMG_2591.JPG\n",
      "/kaggle/input/icdar2003/SceneTrialTrain/lfsosa_12.08.2002/IMG_2481.JPG\n",
      "/kaggle/input/icdar2003/SceneTrialTrain/lfsosa_12.08.2002/IMG_2545.JPG\n",
      "/kaggle/input/icdar2003/SceneTrialTrain/lfsosa_12.08.2002/IMG_2667.JPG\n",
      "/kaggle/input/icdar2003/SceneTrialTrain/lfsosa_12.08.2002/IMG_2469.JPG\n",
      "/kaggle/input/icdar2003/SceneTrialTrain/lfsosa_12.08.2002/IMG_2571.JPG\n",
      "/kaggle/input/icdar2003/SceneTrialTrain/lfsosa_12.08.2002/IMG_2682.JPG\n",
      "/kaggle/input/icdar2003/SceneTrialTrain/lfsosa_12.08.2002/IMG_2509.JPG\n",
      "/kaggle/input/icdar2003/SceneTrialTrain/lfsosa_12.08.2002/IMG_2598.JPG\n",
      "/kaggle/input/icdar2003/SceneTrialTrain/lfsosa_12.08.2002/IMG_2538.JPG\n",
      "/kaggle/input/icdar2003/SceneTrialTrain/lfsosa_12.08.2002/IMG_2583.JPG\n",
      "/kaggle/input/icdar2003/SceneTrialTrain/lfsosa_12.08.2002/IMG_2532.JPG\n",
      "/kaggle/input/icdar2003/SceneTrialTrain/lfsosa_12.08.2002/IMG_2504.JPG\n",
      "/kaggle/input/icdar2003/SceneTrialTrain/lfsosa_12.08.2002/IMG_2464.JPG\n",
      "/kaggle/input/icdar2003/SceneTrialTrain/lfsosa_12.08.2002/IMG_2490.JPG\n",
      "/kaggle/input/icdar2003/SceneTrialTrain/lfsosa_12.08.2002/IMG_2586.JPG\n",
      "/kaggle/input/icdar2003/SceneTrialTrain/lfsosa_12.08.2002/IMG_2605.JPG\n",
      "/kaggle/input/icdar2003/SceneTrialTrain/lfsosa_12.08.2002/IMG_2584.JPG\n",
      "/kaggle/input/icdar2003/SceneTrialTrain/lfsosa_12.08.2002/IMG_2668.JPG\n",
      "/kaggle/input/icdar2003/SceneTrialTrain/lfsosa_12.08.2002/IMG_2615.JPG\n",
      "/kaggle/input/icdar2003/SceneTrialTrain/lfsosa_12.08.2002/IMG_2600.JPG\n",
      "/kaggle/input/icdar2003/SceneTrialTrain/lfsosa_12.08.2002/IMG_2657.JPG\n",
      "/kaggle/input/icdar2003/SceneTrialTrain/lfsosa_12.08.2002/IMG_2606.JPG\n",
      "/kaggle/input/icdar2003/SceneTrialTrain/lfsosa_12.08.2002/IMG_2635.JPG\n",
      "/kaggle/input/icdar2003/SceneTrialTrain/lfsosa_12.08.2002/IMG_2633.JPG\n",
      "/kaggle/input/icdar2003/SceneTrialTrain/lfsosa_12.08.2002/IMG_2659.JPG\n",
      "/kaggle/input/icdar2003/SceneTrialTrain/lfsosa_12.08.2002/IMG_2488.JPG\n",
      "/kaggle/input/icdar2003/SceneTrialTrain/lfsosa_12.08.2002/IMG_2476.JPG\n",
      "/kaggle/input/icdar2003/SceneTrialTrain/lfsosa_12.08.2002/IMG_2664.JPG\n",
      "/kaggle/input/icdar2003/SceneTrialTrain/lfsosa_12.08.2002/IMG_2508.JPG\n",
      "/kaggle/input/icdar2003/SceneTrialTrain/lfsosa_12.08.2002/IMG_2674.JPG\n",
      "/kaggle/input/icdar2003/SceneTrialTrain/lfsosa_12.08.2002/IMG_2642.JPG\n",
      "/kaggle/input/icdar2003/SceneTrialTrain/lfsosa_12.08.2002/IMG_2627.JPG\n",
      "/kaggle/input/icdar2003/SceneTrialTrain/lfsosa_12.08.2002/IMG_2503.JPG\n",
      "/kaggle/input/icdar2003/SceneTrialTrain/lfsosa_12.08.2002/IMG_2506.JPG\n",
      "/kaggle/input/icdar2003/SceneTrialTrain/lfsosa_12.08.2002/IMG_2534.JPG\n",
      "/kaggle/input/icdar2003/SceneTrialTrain/lfsosa_12.08.2002/IMG_2510.JPG\n",
      "/kaggle/input/icdar2003/SceneTrialTrain/lfsosa_12.08.2002/IMG_2612.JPG\n",
      "/kaggle/input/icdar2003/SceneTrialTrain/lfsosa_12.08.2002/IMG_2471.JPG\n",
      "/kaggle/input/icdar2003/SceneTrialTrain/lfsosa_12.08.2002/IMG_2500.JPG\n",
      "/kaggle/input/icdar2003/SceneTrialTrain/lfsosa_12.08.2002/IMG_2640.JPG\n",
      "/kaggle/input/icdar2003/SceneTrialTrain/lfsosa_12.08.2002/IMG_2567.JPG\n",
      "/kaggle/input/icdar2003/SceneTrialTrain/lfsosa_12.08.2002/IMG_2572.JPG\n",
      "/kaggle/input/icdar2003/SceneTrialTrain/lfsosa_12.08.2002/IMG_2474.JPG\n",
      "/kaggle/input/icdar2003/SceneTrialTrain/lfsosa_12.08.2002/IMG_2554.JPG\n",
      "/kaggle/input/icdar2003/SceneTrialTrain/lfsosa_12.08.2002/IMG_2549.JPG\n",
      "/kaggle/input/icdar2003/SceneTrialTrain/lfsosa_12.08.2002/IMG_2468.JPG\n",
      "/kaggle/input/icdar2003/SceneTrialTrain/lfsosa_12.08.2002/IMG_2550.JPG\n",
      "/kaggle/input/icdar2003/SceneTrialTrain/lfsosa_12.08.2002/IMG_2663.JPG\n",
      "/kaggle/input/icdar2003/SceneTrialTrain/lfsosa_12.08.2002/IMG_2536.JPG\n",
      "/kaggle/input/icdar2003/SceneTrialTrain/lfsosa_12.08.2002/IMG_2482.JPG\n",
      "/kaggle/input/icdar2003/SceneTrialTrain/lfsosa_12.08.2002/IMG_2556.JPG\n",
      "/kaggle/input/icdar2003/SceneTrialTrain/lfsosa_12.08.2002/IMG_2575.JPG\n",
      "/kaggle/input/icdar2003/SceneTrialTrain/lfsosa_12.08.2002/IMG_2540.JPG\n",
      "/kaggle/input/icdar2003/SceneTrialTrain/lfsosa_12.08.2002/IMG_2647.JPG\n",
      "/kaggle/input/icdar2003/SceneTrialTrain/lfsosa_12.08.2002/IMG_2513.JPG\n",
      "/kaggle/input/icdar2003/SceneTrialTrain/lfsosa_12.08.2002/IMG_2466.JPG\n",
      "/kaggle/input/icdar2003/SceneTrialTrain/lfsosa_12.08.2002/IMG_2547.JPG\n",
      "/kaggle/input/icdar2003/SceneTrialTrain/lfsosa_12.08.2002/IMG_2558.JPG\n",
      "/kaggle/input/icdar2003/SceneTrialTrain/lfsosa_12.08.2002/IMG_2618.JPG\n",
      "/kaggle/input/icdar2003/SceneTrialTrain/lfsosa_12.08.2002/IMG_2638.JPG\n",
      "/kaggle/input/icdar2003/SceneTrialTrain/lfsosa_12.08.2002/IMG_2661.JPG\n",
      "/kaggle/input/icdar2003/SceneTrialTrain/lfsosa_12.08.2002/IMG_2543.JPG\n",
      "/kaggle/input/icdar2003/SceneTrialTrain/lfsosa_12.08.2002/IMG_2519.JPG\n",
      "/kaggle/input/icdar2003/SceneTrialTrain/lfsosa_12.08.2002/IMG_2478.JPG\n",
      "/kaggle/input/icdar2003/SceneTrialTrain/lfsosa_12.08.2002/IMG_2489.JPG\n",
      "/kaggle/input/icdar2003/SceneTrialTrain/lfsosa_12.08.2002/IMG_2485.JPG\n",
      "/kaggle/input/icdar2003/SceneTrialTrain/lfsosa_12.08.2002/IMG_2479.JPG\n",
      "/kaggle/input/icdar2003/SceneTrialTrain/lfsosa_12.08.2002/IMG_2559.JPG\n",
      "/kaggle/input/icdar2003/SceneTrialTrain/lfsosa_12.08.2002/IMG_2643.JPG\n",
      "/kaggle/input/icdar2003/SceneTrialTrain/lfsosa_12.08.2002/IMG_2505.JPG\n",
      "/kaggle/input/icdar2003/SceneTrialTrain/lfsosa_12.08.2002/IMG_2518.JPG\n",
      "/kaggle/input/icdar2003/SceneTrialTrain/lfsosa_12.08.2002/IMG_2501.JPG\n",
      "/kaggle/input/icdar2003/SceneTrialTrain/lfsosa_12.08.2002/IMG_2560.JPG\n",
      "/kaggle/input/icdar2003/SceneTrialTrain/lfsosa_12.08.2002/IMG_2462.JPG\n",
      "/kaggle/input/icdar2003/SceneTrialTrain/lfsosa_12.08.2002/IMG_2530.JPG\n",
      "/kaggle/input/icdar2003/SceneTrialTrain/lfsosa_12.08.2002/IMG_2658.JPG\n",
      "/kaggle/input/icdar2003/SceneTrialTrain/lfsosa_12.08.2002/IMG_2499.JPG\n",
      "/kaggle/input/icdar2003/SceneTrialTrain/lfsosa_12.08.2002/IMG_2666.JPG\n",
      "/kaggle/input/icdar2003/SceneTrialTrain/lfsosa_12.08.2002/IMG_2557.JPG\n",
      "/kaggle/input/icdar2003/SceneTrialTrain/apanar_06.08.2002/IMG_1306.JPG\n",
      "/kaggle/input/icdar2003/SceneTrialTrain/apanar_06.08.2002/Img_1305.jpg\n",
      "/kaggle/input/icdar2003/SceneTrialTrain/apanar_06.08.2002/IMG_1316.JPG\n",
      "/kaggle/input/icdar2003/SceneTrialTrain/apanar_06.08.2002/IMG_1317.JPG\n",
      "/kaggle/input/icdar2003/SceneTrialTrain/apanar_06.08.2002/IMG_1300.JPG\n",
      "/kaggle/input/icdar2003/SceneTrialTrain/apanar_06.08.2002/IMG_1294.JPG\n",
      "/kaggle/input/icdar2003/SceneTrialTrain/apanar_06.08.2002/IMG_1263.JPG\n",
      "/kaggle/input/icdar2003/SceneTrialTrain/apanar_06.08.2002/IMG_1301.JPG\n",
      "/kaggle/input/icdar2003/SceneTrialTrain/apanar_06.08.2002/IMG_1259.JPG\n",
      "/kaggle/input/icdar2003/SceneTrialTrain/apanar_06.08.2002/IMG_1293.JPG\n",
      "/kaggle/input/icdar2003/SceneTrialTrain/apanar_06.08.2002/IMG_1289.JPG\n",
      "/kaggle/input/icdar2003/SceneTrialTrain/apanar_06.08.2002/IMG_1269.JPG\n",
      "/kaggle/input/icdar2003/SceneTrialTrain/apanar_06.08.2002/IMG_1284.JPG\n",
      "/kaggle/input/icdar2003/SceneTrialTrain/apanar_06.08.2002/IMG_1288.JPG\n",
      "/kaggle/input/icdar2003/SceneTrialTrain/apanar_06.08.2002/IMG_1304.JPG\n",
      "/kaggle/input/icdar2003/SceneTrialTrain/apanar_06.08.2002/IMG_1299.JPG\n",
      "/kaggle/input/icdar2003/SceneTrialTrain/apanar_06.08.2002/IMG_1281.JPG\n",
      "/kaggle/input/icdar2003/SceneTrialTrain/apanar_06.08.2002/IMG_1255.JPG\n",
      "/kaggle/input/icdar2003/SceneTrialTrain/apanar_06.08.2002/IMG_1253.JPG\n",
      "/kaggle/input/icdar2003/SceneTrialTrain/apanar_06.08.2002/IMG_1261.JPG\n",
      "/kaggle/input/icdar2003/SceneTrialTrain/apanar_06.08.2002/IMG_1303.JPG\n",
      "/kaggle/input/icdar2003/SceneTrialTrain/apanar_06.08.2002/IMG_1307.JPG\n",
      "/kaggle/input/icdar2003/SceneTrialTrain/apanar_06.08.2002/IMG_1282.JPG\n",
      "/kaggle/input/icdar2003/SceneTrialTrain/apanar_06.08.2002/IMG_1252.JPG\n",
      "/kaggle/input/icdar2003/SceneTrialTrain/apanar_06.08.2002/IMG_1312.JPG\n",
      "/kaggle/input/icdar2003/SceneTrialTrain/apanar_06.08.2002/IMG_1247.JPG\n",
      "/kaggle/input/icdar2003/SceneTrialTrain/apanar_06.08.2002/IMG_1308.JPG\n",
      "/kaggle/input/icdar2003/SceneTrialTrain/apanar_06.08.2002/IMG_1298.JPG\n",
      "/kaggle/input/icdar2003/SceneTrialTrain/apanar_06.08.2002/IMG_1315.JPG\n",
      "/kaggle/input/icdar2003/SceneTrialTrain/apanar_06.08.2002/IMG_1283.JPG\n",
      "/kaggle/input/icdar2003/SceneTrialTrain/apanar_06.08.2002/IMG_1286.JPG\n",
      "/kaggle/input/icdar2003/SceneTrialTrain/apanar_06.08.2002/IMG_1291.JPG\n",
      "/kaggle/input/icdar2003/SceneTrialTrain/apanar_06.08.2002/IMG_1285.JPG\n",
      "/kaggle/input/icdar2003/SceneTrialTrain/apanar_06.08.2002/IMG_1302.JPG\n",
      "/kaggle/input/icdar2003/SceneTrialTrain/apanar_06.08.2002/IMG_1265.JPG\n",
      "/kaggle/input/icdar2003/SceneTrialTrain/apanar_06.08.2002/IMG_1311.JPG\n",
      "/kaggle/input/icdar2003/SceneTrialTrain/apanar_06.08.2002/Img_1313.jpg\n",
      "/kaggle/input/icdar2003/SceneTrialTrain/apanar_06.08.2002/IMG_1290.JPG\n",
      "/kaggle/input/icdar2003/SceneTrialTrain/apanar_06.08.2002/IMG_1292.JPG\n",
      "/kaggle/input/icdar2003/SceneTrialTrain/ryoungt_03.09.2002/goose.jpg\n",
      "/kaggle/input/icdar2003/SceneTrialTrain/ryoungt_03.09.2002/PICT0022.JPG\n",
      "/kaggle/input/icdar2003/SceneTrialTrain/ryoungt_03.09.2002/PICT0023.JPG\n",
      "/kaggle/input/icdar2003/SceneTrialTrain/ryoungt_03.09.2002/PICT0019.JPG\n",
      "/kaggle/input/icdar2003/SceneTrialTrain/ryoungt_03.09.2002/PICT0042.JPG\n",
      "/kaggle/input/icdar2003/SceneTrialTrain/ryoungt_03.09.2002/PICT0052.JPG\n",
      "/kaggle/input/icdar2003/SceneTrialTrain/ryoungt_03.09.2002/PICT0015.JPG\n",
      "/kaggle/input/icdar2003/SceneTrialTrain/ryoungt_03.09.2002/ball.jpg\n",
      "/kaggle/input/icdar2003/SceneTrialTrain/ryoungt_03.09.2002/PICT0043.JPG\n",
      "/kaggle/input/icdar2003/SceneTrialTrain/ryoungt_03.09.2002/PICT0010.JPG\n",
      "/kaggle/input/icdar2003/SceneTrialTrain/ryoungt_03.09.2002/PICT0049.JPG\n",
      "/kaggle/input/icdar2003/SceneTrialTrain/ryoungt_03.09.2002/PICT0031.JPG\n",
      "/kaggle/input/icdar2003/SceneTrialTrain/ryoungt_03.09.2002/from_joanne.jpg\n",
      "/kaggle/input/icdar2003/SceneTrialTrain/ryoungt_03.09.2002/mach.jpg\n",
      "/kaggle/input/icdar2003/SceneTrialTrain/ryoungt_03.09.2002/PICT0025.JPG\n",
      "/kaggle/input/icdar2003/SceneTrialTrain/ryoungt_03.09.2002/PICT0011.JPG\n",
      "/kaggle/input/icdar2003/SceneTrialTrain/ryoungt_03.09.2002/PICT0026.JPG\n",
      "/kaggle/input/icdar2003/SceneTrialTrain/ryoungt_03.09.2002/PICT0030.JPG\n",
      "/kaggle/input/icdar2003/SceneTrialTrain/ryoungt_03.09.2002/PICT0029.JPG\n",
      "/kaggle/input/icdar2003/SceneTrialTrain/ryoungt_03.09.2002/benone.jpg\n",
      "/kaggle/input/icdar2003/SceneTrialTrain/ryoungt_03.09.2002/PICT0048.JPG\n",
      "/kaggle/input/icdar2003/SceneTrialTrain/ryoungt_03.09.2002/PICT0005.JPG\n",
      "/kaggle/input/icdar2003/SceneTrialTrain/ryoungt_03.09.2002/PICT0004.JPG\n",
      "/kaggle/input/icdar2003/SceneTrialTrain/ryoungt_03.09.2002/036._.jpg\n",
      "/kaggle/input/icdar2003/SceneTrialTrain/ryoungt_03.09.2002/Pict0020.jpg\n",
      "/kaggle/input/icdar2003/SceneTrialTrain/ryoungt_05.08.2002/aPICT0020.JPG\n",
      "/kaggle/input/icdar2003/SceneTrialTrain/ryoungt_05.08.2002/aPICT0014.JPG\n",
      "/kaggle/input/icdar2003/SceneTrialTrain/ryoungt_05.08.2002/aPICT0001.JPG\n",
      "/kaggle/input/icdar2003/SceneTrialTrain/ryoungt_05.08.2002/abPICT0005.JPG\n",
      "/kaggle/input/icdar2003/SceneTrialTrain/ryoungt_05.08.2002/aPICT0006.JPG\n",
      "/kaggle/input/icdar2003/SceneTrialTrain/ryoungt_05.08.2002/aPICT0017.JPG\n",
      "/kaggle/input/icdar2003/SceneTrialTrain/ryoungt_05.08.2002/aPICT0013.JPG\n",
      "/kaggle/input/icdar2003/SceneTrialTrain/ryoungt_05.08.2002/aPICT0004.JPG\n",
      "/kaggle/input/icdar2003/SceneTrialTrain/ryoungt_05.08.2002/aPICT0024.JPG\n",
      "/kaggle/input/icdar2003/SceneTrialTrain/ryoungt_05.08.2002/aPICT0027.JPG\n",
      "/kaggle/input/icdar2003/SceneTrialTrain/ryoungt_05.08.2002/aPICT0007.JPG\n",
      "/kaggle/input/icdar2003/SceneTrialTrain/ryoungt_05.08.2002/aPICT0023.JPG\n",
      "/kaggle/input/icdar2003/SceneTrialTrain/ryoungt_05.08.2002/aPICT0021.JPG\n",
      "/kaggle/input/icdar2003/SceneTrialTrain/ryoungt_05.08.2002/aPICT0026.JPG\n",
      "/kaggle/input/icdar2003/SceneTrialTrain/ryoungt_05.08.2002/aPICT0025.JPG\n",
      "/kaggle/input/icdar2003/SceneTrialTrain/ryoungt_05.08.2002/aPICT0011.JPG\n",
      "/kaggle/input/icdar2003/SceneTrialTrain/ryoungt_05.08.2002/aPICT0018.JPG\n",
      "/kaggle/input/icdar2003/SceneTrialTrain/ryoungt_05.08.2002/052.Kungstradgarden.jpg\n",
      "/kaggle/input/icdar2003/SceneTrialTrain/ryoungt_05.08.2002/aPICT0010.JPG\n",
      "/kaggle/input/icdar2003/SceneTrialTrain/ryoungt_05.08.2002/aPICT0002.JPG\n"
     ]
    }
   ],
   "source": [
    "# This Python 3 environment comes with many helpful analytics libraries installed\n",
    "# It is defined by the kaggle/python Docker image: https://github.com/kaggle/docker-python\n",
    "# For example, here's several helpful packages to load\n",
    "\n",
    "import numpy as np  # linear algebra\n",
    "import pandas as pd  # data processing, CSV file I/O (e.g. pd.read_csv)\n",
    "\n",
    "# Input data files are available in the read-only \"../input/\" directory\n",
    "# For example, running this (by clicking run or pressing Shift+Enter) will list all files under the input directory\n",
    "\n",
    "import os\n",
    "for dirname, _, filenames in os.walk('/kaggle/input'):\n",
    "    for filename in filenames:\n",
    "        print(os.path.join(dirname, filename))\n",
    "\n",
    "# You can write up to 20GB to the current directory (/kaggle/working/) that gets preserved as output when you create a version using \"Save & Run All\"\n",
    "# You can also write temporary files to /kaggle/temp/, but they won't be saved outside of the current session"
   ]
  },
  {
   "cell_type": "code",
   "execution_count": 2,
   "id": "af8848dd",
   "metadata": {
    "execution": {
     "iopub.execute_input": "2025-01-09T14:17:24.635845Z",
     "iopub.status.busy": "2025-01-09T14:17:24.635504Z",
     "iopub.status.idle": "2025-01-09T14:17:33.046809Z",
     "shell.execute_reply": "2025-01-09T14:17:33.046121Z"
    },
    "papermill": {
     "duration": 8.419156,
     "end_time": "2025-01-09T14:17:33.048273",
     "exception": false,
     "start_time": "2025-01-09T14:17:24.629117",
     "status": "completed"
    },
    "tags": []
   },
   "outputs": [],
   "source": [
    "import os\n",
    "import random\n",
    "import time\n",
    "import xml.etree.ElementTree as ET\n",
    "\n",
    "import cv2\n",
    "import matplotlib.pyplot as plt\n",
    "import numpy as np\n",
    "import timm\n",
    "import torch\n",
    "import torch.nn as nn\n",
    "import torchvision\n",
    "from PIL import Image\n",
    "from sklearn.model_selection import train_test_split\n",
    "\n",
    "from torch.nn import functional as F\n",
    "from torch.utils.data import DataLoader, Dataset\n",
    "from torchvision import transforms\n"
   ]
  },
  {
   "cell_type": "code",
   "execution_count": 3,
   "id": "d571adc2",
   "metadata": {
    "execution": {
     "iopub.execute_input": "2025-01-09T14:17:33.061268Z",
     "iopub.status.busy": "2025-01-09T14:17:33.060864Z",
     "iopub.status.idle": "2025-01-09T14:17:33.088020Z",
     "shell.execute_reply": "2025-01-09T14:17:33.087374Z"
    },
    "papermill": {
     "duration": 0.034706,
     "end_time": "2025-01-09T14:17:33.089163",
     "exception": false,
     "start_time": "2025-01-09T14:17:33.054457",
     "status": "completed"
    },
    "tags": []
   },
   "outputs": [
    {
     "name": "stdout",
     "output_type": "stream",
     "text": [
      "img__paths /kaggle/input/icdar2003/SceneTrialTrain/apanar_06.08.2002/IMG_1261.JPG\n",
      "img_sizes [1600.0, 1200.0]\n",
      "img_labels ['self', 'adhesive', 'address', 'labels', '36', '89m', 'cls', '250', 'on', 'a', 'roll']\n",
      "bboxs [[174.0, 392.0, 274.0, 195.0], [512.0, 391.0, 679.0, 183.0], [184.0, 612.0, 622.0, 174.0], [863.0, 599.0, 446.0, 187.0], [72.0, 6.0, 95.0, 87.0], [247.0, 2.0, 197.0, 88.0], [792.0, 0.0, 115.0, 81.0], [200.0, 848.0, 228.0, 139.0], [473.0, 878.0, 165.0, 109.0], [684.0, 878.0, 71.0, 106.0], [806.0, 844.0, 218.0, 141.0]]\n"
     ]
    }
   ],
   "source": [
    "def extract_data_from_xml(rootdir, xml_file):\n",
    "    tree = ET.parse(os.path.join(rootdir, xml_file))\n",
    "    root = tree.getroot()\n",
    "    data = []\n",
    "\n",
    "    img_paths = []\n",
    "    img_sizes = []\n",
    "    img_labels = []\n",
    "    bboxs = []\n",
    "\n",
    "    for img in root:\n",
    "        bbs_of_img = []\n",
    "        labels_of_img = []\n",
    "\n",
    "        for bbs in img.findall('taggedRectangles'):\n",
    "            for bb in bbs.findall('taggedRectangle'):\n",
    "                x = float(bb.attrib['x'])\n",
    "                y = float(bb.attrib['y'])\n",
    "                w = float(bb.attrib['width'])\n",
    "                h = float(bb.attrib['height'])\n",
    "                bbs_of_img.append([x, y, w, h])\n",
    "                labels_of_img.append(bb[0].text.lower())\n",
    "\n",
    "        img_paths.append(os.path.join(rootdir, img[0].text))\n",
    "        img_labels.append(labels_of_img)\n",
    "        img_sizes.append([float(img[1].attrib['x']),\n",
    "                         float(img[1].attrib['y'])])\n",
    "        bboxs.append(bbs_of_img)\n",
    "\n",
    "    return img_paths, img_sizes, img_labels, bboxs\n",
    "\n",
    "\n",
    "img_paths, img_sizes, img_labels, bboxs = extract_data_from_xml(\n",
    "    '/kaggle/input/icdar2003/SceneTrialTrain', 'words.xml')\n",
    "print(\"img__paths\", img_paths[0])\n",
    "print(\"img_sizes\", img_sizes[0])\n",
    "print(\"img_labels\", img_labels[0])\n",
    "print(\"bboxs\", bboxs[0])"
   ]
  },
  {
   "cell_type": "markdown",
   "id": "731987da",
   "metadata": {
    "papermill": {
     "duration": 0.005466,
     "end_time": "2025-01-09T14:17:33.100464",
     "exception": false,
     "start_time": "2025-01-09T14:17:33.094998",
     "status": "completed"
    },
    "tags": []
   },
   "source": [
    "### Chuẩn bị bộ dữ liệu:"
   ]
  },
  {
   "cell_type": "code",
   "execution_count": 4,
   "id": "4662adf2",
   "metadata": {
    "execution": {
     "iopub.execute_input": "2025-01-09T14:17:33.112624Z",
     "iopub.status.busy": "2025-01-09T14:17:33.112413Z",
     "iopub.status.idle": "2025-01-09T14:17:43.913032Z",
     "shell.execute_reply": "2025-01-09T14:17:43.912312Z"
    },
    "papermill": {
     "duration": 10.808462,
     "end_time": "2025-01-09T14:17:43.914683",
     "exception": false,
     "start_time": "2025-01-09T14:17:33.106221",
     "status": "completed"
    },
    "tags": []
   },
   "outputs": [],
   "source": [
    "def split_bounding_boxes(img_paths, img_labels, bboxes, save_dir):\n",
    "    image_dir = os.path.join(save_dir, \"images\")\n",
    "    os.makedirs(image_dir, exist_ok=True)\n",
    "\n",
    "    labels =[]\n",
    "    count = 0\n",
    "\n",
    "    for i in range(len(img_paths)):\n",
    "        img = Image.open(img_paths[i])\n",
    "        for j in range(len(img_labels[i])):\n",
    "            bboxs = bboxes[i][j]\n",
    "            label = img_labels[i][j]\n",
    "            left = int(bboxs[0])\n",
    "            upper = int(bboxs[1])\n",
    "            right = int(bboxs[0] + bboxs[2])\n",
    "            bottom = int(bboxs[1] + bboxs[3])\n",
    "            \n",
    "            img_crop = img.crop((left, upper, right, bottom))\n",
    "            # Bỏ qua ảnh nếu kích thước nhỏ hơn 10x10\n",
    "            if img_crop.size[0] < 10 or img_crop.size[1] < 10:\n",
    "                continue\n",
    "\n",
    "            img_save_path = os.path.join(image_dir, f\"{count:06d}.png\")\n",
    "            img_crop.save(img_save_path)\n",
    "\n",
    "            label = img_save_path + \"\\t\" + label\n",
    "            labels.append(label)\n",
    "            \n",
    "            count += 1\n",
    "\n",
    "        # Write labels to a text file\n",
    "        labels_txt_path = os.path.join(save_dir, \"labels.txt\")\n",
    "        with open(labels_txt_path, \"w\") as f:\n",
    "            for label in labels:\n",
    "                f.write(f\"{label}\\n\")\n",
    "\n",
    "save_dir = \"/kaggle/working/datasets/ocr_dataset\"\n",
    "split_bounding_boxes(img_paths, img_labels, bboxs, save_dir)"
   ]
  },
  {
   "cell_type": "markdown",
   "id": "eec99d5c",
   "metadata": {
    "papermill": {
     "duration": 0.005616,
     "end_time": "2025-01-09T14:17:43.926732",
     "exception": false,
     "start_time": "2025-01-09T14:17:43.921116",
     "status": "completed"
    },
    "tags": []
   },
   "source": [
    "### Đọc dữ liệu:"
   ]
  },
  {
   "cell_type": "code",
   "execution_count": 5,
   "id": "5bf3bb7f",
   "metadata": {
    "execution": {
     "iopub.execute_input": "2025-01-09T14:17:43.939389Z",
     "iopub.status.busy": "2025-01-09T14:17:43.939104Z",
     "iopub.status.idle": "2025-01-09T14:17:43.944930Z",
     "shell.execute_reply": "2025-01-09T14:17:43.943969Z"
    },
    "papermill": {
     "duration": 0.013773,
     "end_time": "2025-01-09T14:17:43.946321",
     "exception": false,
     "start_time": "2025-01-09T14:17:43.932548",
     "status": "completed"
    },
    "tags": []
   },
   "outputs": [
    {
     "name": "stdout",
     "output_type": "stream",
     "text": [
      "Total images: 1156\n"
     ]
    }
   ],
   "source": [
    "img_paths = []\n",
    "labels = []\n",
    "\n",
    "labels_path = \"/kaggle/working/datasets/ocr_dataset/labels.txt\"\n",
    "with open(labels_path, \"r\") as f:\n",
    "    for label in f:\n",
    "        labels.append(label.strip().split('\\t')[1])\n",
    "        img_paths.append(label.strip().split('\\t')[0])\n",
    "\n",
    "print (f\"Total images: {len(img_paths)}\")"
   ]
  },
  {
   "cell_type": "markdown",
   "id": "913d25c4",
   "metadata": {
    "papermill": {
     "duration": 0.005568,
     "end_time": "2025-01-09T14:17:43.957740",
     "exception": false,
     "start_time": "2025-01-09T14:17:43.952172",
     "status": "completed"
    },
    "tags": []
   },
   "source": [
    "### Xây dựng bộ từ vựng (vocabulary)"
   ]
  },
  {
   "cell_type": "code",
   "execution_count": 6,
   "id": "351c6d31",
   "metadata": {
    "execution": {
     "iopub.execute_input": "2025-01-09T14:17:43.970301Z",
     "iopub.status.busy": "2025-01-09T14:17:43.970066Z",
     "iopub.status.idle": "2025-01-09T14:17:43.975774Z",
     "shell.execute_reply": "2025-01-09T14:17:43.975045Z"
    },
    "papermill": {
     "duration": 0.013164,
     "end_time": "2025-01-09T14:17:43.976893",
     "exception": false,
     "start_time": "2025-01-09T14:17:43.963729",
     "status": "completed"
    },
    "tags": []
   },
   "outputs": [
    {
     "name": "stdout",
     "output_type": "stream",
     "text": [
      "Vocab: _!\"&'()-.0123456789:?abcdefghijklmnopqrstuvwxyz£éñ\n",
      "Vocab size: 50\n"
     ]
    }
   ],
   "source": [
    "letters = [char.lower() for char in labels]\n",
    "letters = \"\".join(letters)\n",
    "letters = sorted(list(set(list(letters))))\n",
    "\n",
    "# create a string of all characters in the dataset\n",
    "chars = \"\".join(letters)\n",
    "\n",
    "# for \"blank\" character\n",
    "blank_char = \"_\"\n",
    "chars = blank_char + chars\n",
    "vocab_size = len(chars)\n",
    "\n",
    "print(f\"Vocab: {chars}\")\n",
    "print(f\"Vocab size: {vocab_size}\")\n",
    "labels2idx = {char: i + 1 for i, char in enumerate(chars)}\n",
    "idx2labels = {id: char for char, id in labels2idx.items()}"
   ]
  },
  {
   "cell_type": "markdown",
   "id": "b988d6cf",
   "metadata": {
    "papermill": {
     "duration": 0.005648,
     "end_time": "2025-01-09T14:17:43.988364",
     "exception": false,
     "start_time": "2025-01-09T14:17:43.982716",
     "status": "completed"
    },
    "tags": []
   },
   "source": [
    "### Encode function"
   ]
  },
  {
   "cell_type": "code",
   "execution_count": 7,
   "id": "13daeec6",
   "metadata": {
    "execution": {
     "iopub.execute_input": "2025-01-09T14:17:44.000900Z",
     "iopub.status.busy": "2025-01-09T14:17:44.000688Z",
     "iopub.status.idle": "2025-01-09T14:17:44.059765Z",
     "shell.execute_reply": "2025-01-09T14:17:44.058971Z"
    },
    "papermill": {
     "duration": 0.066499,
     "end_time": "2025-01-09T14:17:44.060946",
     "exception": false,
     "start_time": "2025-01-09T14:17:43.994447",
     "status": "completed"
    },
    "tags": []
   },
   "outputs": [
    {
     "data": {
      "text/plain": [
       "(tensor([40, 26, 33, 27,  0,  0,  0,  0,  0,  0], dtype=torch.int32), 4)"
      ]
     },
     "execution_count": 7,
     "metadata": {},
     "output_type": "execute_result"
    }
   ],
   "source": [
    "max_length_encode = max([len(label) for label in labels])\n",
    "\n",
    "def encode(label, labels2idx, max_length):\n",
    "    encode_label = torch.tensor([labels2idx[char] for char in label], dtype=torch.int32)\n",
    "\n",
    "    length_encode = len(encode_label)\n",
    "    # kh thêm bên trái và thêm pad bên phải\n",
    "    encode_label = F.pad(encode_label, (0, max_length - length_encode), value=0)\n",
    "\n",
    "    # lenght encode cần để sử dụng CTC Loss\n",
    "    return encode_label, length_encode\n",
    "\n",
    "encode('self', labels2idx, 10)"
   ]
  },
  {
   "cell_type": "markdown",
   "id": "c3d0d98f",
   "metadata": {
    "papermill": {
     "duration": 0.005712,
     "end_time": "2025-01-09T14:17:44.072791",
     "exception": false,
     "start_time": "2025-01-09T14:17:44.067079",
     "status": "completed"
    },
    "tags": []
   },
   "source": [
    "### Decode function"
   ]
  },
  {
   "cell_type": "code",
   "execution_count": 8,
   "id": "c1df962f",
   "metadata": {
    "execution": {
     "iopub.execute_input": "2025-01-09T14:17:44.085193Z",
     "iopub.status.busy": "2025-01-09T14:17:44.084952Z",
     "iopub.status.idle": "2025-01-09T14:17:44.097857Z",
     "shell.execute_reply": "2025-01-09T14:17:44.097237Z"
    },
    "papermill": {
     "duration": 0.020492,
     "end_time": "2025-01-09T14:17:44.099102",
     "exception": false,
     "start_time": "2025-01-09T14:17:44.078610",
     "status": "completed"
    },
    "tags": []
   },
   "outputs": [
    {
     "data": {
      "text/plain": [
       "[':i:']"
      ]
     },
     "execution_count": 8,
     "metadata": {},
     "output_type": "execute_result"
    }
   ],
   "source": [
    "def decode(encoded_sequences, idx_to_char, blank_char=\"_\"):\n",
    "    decoded_sequences = []\n",
    "\n",
    "    for seq in encoded_sequences:\n",
    "        decoded_label = []\n",
    "        prev_char = None  # To track the previous character\n",
    "\n",
    "        for token in seq:\n",
    "            if token != 0:  # Ignore padding (token = 0)\n",
    "                char = idx_to_char[token.item()]\n",
    "                # Append the character if it's not a blank or the same as the previous character\n",
    "                if char != blank_char:\n",
    "                    if char != prev_char or prev_char == blank_char:\n",
    "                        decoded_label.append(char)\n",
    "                prev_char = char  # Update previous character\n",
    "\n",
    "        decoded_sequences.append(\"\".join(decoded_label))\n",
    "\n",
    "    return decoded_sequences\n",
    "\n",
    "\n",
    "decode([torch.tensor([1, 20, 30, 1, 20, 20, 1])], idx2labels)"
   ]
  },
  {
   "cell_type": "markdown",
   "id": "40320175",
   "metadata": {
    "papermill": {
     "duration": 0.005654,
     "end_time": "2025-01-09T14:17:44.110777",
     "exception": false,
     "start_time": "2025-01-09T14:17:44.105123",
     "status": "completed"
    },
    "tags": []
   },
   "source": [
    "### Transform data"
   ]
  },
  {
   "cell_type": "code",
   "execution_count": 9,
   "id": "0d6f8af4",
   "metadata": {
    "execution": {
     "iopub.execute_input": "2025-01-09T14:17:44.123261Z",
     "iopub.status.busy": "2025-01-09T14:17:44.123030Z",
     "iopub.status.idle": "2025-01-09T14:17:44.128643Z",
     "shell.execute_reply": "2025-01-09T14:17:44.127976Z"
    },
    "papermill": {
     "duration": 0.013164,
     "end_time": "2025-01-09T14:17:44.129765",
     "exception": false,
     "start_time": "2025-01-09T14:17:44.116601",
     "status": "completed"
    },
    "tags": []
   },
   "outputs": [],
   "source": [
    "from torchvision import transforms\n",
    "\n",
    "data_transforms = {\n",
    "    \"train\": transforms.Compose(\n",
    "        [\n",
    "            transforms.Resize((100, 420)),\n",
    "            transforms.ColorJitter(\n",
    "                brightness=0.5, contrast=0.5, saturation=0.5),\n",
    "            transforms.Grayscale(num_output_channels=1),\n",
    "            transforms.GaussianBlur(3),\n",
    "            transforms.RandomAffine(degrees=1, shear=1),\n",
    "            transforms.RandomPerspective(\n",
    "                distortion_scale=0.2, p=0.3, interpolation=3),\n",
    "            transforms.RandomRotation(degrees=2),\n",
    "            transforms.ToTensor(),\n",
    "            transforms.Normalize((0.5,), (0.5,)),\n",
    "        ]\n",
    "    ),\n",
    "    \"val\": transforms.Compose(\n",
    "        [\n",
    "            transforms.Resize((100, 420)),\n",
    "            transforms.Grayscale(num_output_channels=1),\n",
    "            transforms.ToTensor(),\n",
    "            transforms.Normalize((0.5,), (0.5,)),\n",
    "        ]\n",
    "    ),\n",
    "}"
   ]
  },
  {
   "cell_type": "markdown",
   "id": "30a74cf9",
   "metadata": {
    "papermill": {
     "duration": 0.005768,
     "end_time": "2025-01-09T14:17:44.141473",
     "exception": false,
     "start_time": "2025-01-09T14:17:44.135705",
     "status": "completed"
    },
    "tags": []
   },
   "source": [
    "### Xây dựng Datasets"
   ]
  },
  {
   "cell_type": "code",
   "execution_count": 10,
   "id": "6377961c",
   "metadata": {
    "execution": {
     "iopub.execute_input": "2025-01-09T14:17:44.154472Z",
     "iopub.status.busy": "2025-01-09T14:17:44.154213Z",
     "iopub.status.idle": "2025-01-09T14:17:44.161667Z",
     "shell.execute_reply": "2025-01-09T14:17:44.160922Z"
    },
    "papermill": {
     "duration": 0.015087,
     "end_time": "2025-01-09T14:17:44.162845",
     "exception": false,
     "start_time": "2025-01-09T14:17:44.147758",
     "status": "completed"
    },
    "tags": []
   },
   "outputs": [],
   "source": [
    "from sklearn.model_selection import train_test_split\n",
    "\n",
    "seed = 0\n",
    "val_size = 0.2\n",
    "test_size = 0.125\n",
    "is_shuffle = True\n",
    "\n",
    "imgp_train, imgp_val, label_train, label_val = train_test_split(\n",
    "    img_paths, labels, test_size=val_size, random_state=seed, shuffle=is_shuffle)\n",
    "\n",
    "imgp_train, imgp_test, label_train, label_test = train_test_split(\n",
    "    imgp_train, label_train, test_size=test_size, random_state=seed, shuffle=is_shuffle)"
   ]
  },
  {
   "cell_type": "code",
   "execution_count": 11,
   "id": "3c5d3a59",
   "metadata": {
    "execution": {
     "iopub.execute_input": "2025-01-09T14:17:44.175587Z",
     "iopub.status.busy": "2025-01-09T14:17:44.175383Z",
     "iopub.status.idle": "2025-01-09T14:17:44.180066Z",
     "shell.execute_reply": "2025-01-09T14:17:44.179459Z"
    },
    "papermill": {
     "duration": 0.01253,
     "end_time": "2025-01-09T14:17:44.181309",
     "exception": false,
     "start_time": "2025-01-09T14:17:44.168779",
     "status": "completed"
    },
    "tags": []
   },
   "outputs": [],
   "source": [
    "from torch.utils.data import Dataset\n",
    "\n",
    "class STRDataset(Dataset):\n",
    "    def __init__(\n",
    "        self,\n",
    "        x,\n",
    "        y,\n",
    "        char_to_idx,\n",
    "        max_label_len,\n",
    "        label_encoder=None,\n",
    "        transform=None,\n",
    "    ):\n",
    "        self.transform = transform\n",
    "        self.img_paths = x\n",
    "        self.labels = y\n",
    "        self.char_to_idx = char_to_idx\n",
    "        self.max_label_len = max_label_len\n",
    "        self.label_encoder = label_encoder\n",
    "\n",
    "    def __len__(self):\n",
    "        return len(self.img_paths)\n",
    "\n",
    "    def __getitem__(self, idx):\n",
    "        label = self.labels[idx]\n",
    "        img_path = self.img_paths[idx]\n",
    "        img = Image.open(img_path).convert(\"RGB\")\n",
    "\n",
    "        if self.transform:\n",
    "            img = self.transform(img)\n",
    "\n",
    "        if self.label_encoder:\n",
    "            encoded_label, label_len = self.label_encoder(\n",
    "                label, self.char_to_idx, self.max_label_len\n",
    "            )\n",
    "        return img, encoded_label, label_len"
   ]
  },
  {
   "cell_type": "code",
   "execution_count": 12,
   "id": "85dda06a",
   "metadata": {
    "execution": {
     "iopub.execute_input": "2025-01-09T14:17:44.194010Z",
     "iopub.status.busy": "2025-01-09T14:17:44.193789Z",
     "iopub.status.idle": "2025-01-09T14:17:44.197611Z",
     "shell.execute_reply": "2025-01-09T14:17:44.196971Z"
    },
    "papermill": {
     "duration": 0.011271,
     "end_time": "2025-01-09T14:17:44.198798",
     "exception": false,
     "start_time": "2025-01-09T14:17:44.187527",
     "status": "completed"
    },
    "tags": []
   },
   "outputs": [],
   "source": [
    "train_dataset = STRDataset(\n",
    "    imgp_train,\n",
    "    label_train,\n",
    "    char_to_idx=labels2idx,\n",
    "    max_label_len=max_length_encode,\n",
    "    label_encoder=encode,\n",
    "    transform=data_transforms[\"train\"],\n",
    ")\n",
    "val_dataset = STRDataset(\n",
    "    imgp_val,\n",
    "    label_val,\n",
    "    char_to_idx=labels2idx,\n",
    "    max_label_len=max_length_encode,\n",
    "    label_encoder=encode,\n",
    "    transform=data_transforms[\"val\"],\n",
    ")\n",
    "test_dataset = STRDataset(\n",
    "    imgp_test,\n",
    "    label_test,\n",
    "    char_to_idx=labels2idx,\n",
    "    max_label_len=max_length_encode,\n",
    "    label_encoder=encode,\n",
    "    transform=data_transforms[\"val\"],\n",
    ")"
   ]
  },
  {
   "cell_type": "markdown",
   "id": "2db422e4",
   "metadata": {
    "papermill": {
     "duration": 0.00567,
     "end_time": "2025-01-09T14:17:44.210347",
     "exception": false,
     "start_time": "2025-01-09T14:17:44.204677",
     "status": "completed"
    },
    "tags": []
   },
   "source": [
    "### Xây dựng data loader"
   ]
  },
  {
   "cell_type": "code",
   "execution_count": 13,
   "id": "d2da4a83",
   "metadata": {
    "execution": {
     "iopub.execute_input": "2025-01-09T14:17:44.222736Z",
     "iopub.status.busy": "2025-01-09T14:17:44.222538Z",
     "iopub.status.idle": "2025-01-09T14:17:44.226423Z",
     "shell.execute_reply": "2025-01-09T14:17:44.225772Z"
    },
    "papermill": {
     "duration": 0.011477,
     "end_time": "2025-01-09T14:17:44.227655",
     "exception": false,
     "start_time": "2025-01-09T14:17:44.216178",
     "status": "completed"
    },
    "tags": []
   },
   "outputs": [],
   "source": [
    "from torch.utils.data import DataLoader\n",
    "\n",
    "\n",
    "train_batch_size = 64\n",
    "test_batch_size = 64 * 2\n",
    "\n",
    "train_loader = DataLoader(\n",
    "    train_dataset, \n",
    "    batch_size=train_batch_size,\n",
    "    shuffle=True\n",
    ")\n",
    "\n",
    "val_loader = DataLoader(\n",
    "    val_dataset,\n",
    "    batch_size=test_batch_size,\n",
    "    shuffle=False\n",
    ")\n",
    "\n",
    "test_loader = DataLoader(\n",
    "    val_dataset,\n",
    "    batch_size=test_batch_size,\n",
    "    shuffle=False\n",
    ")"
   ]
  },
  {
   "cell_type": "code",
   "execution_count": 14,
   "id": "3f50b0f1",
   "metadata": {
    "execution": {
     "iopub.execute_input": "2025-01-09T14:17:44.240133Z",
     "iopub.status.busy": "2025-01-09T14:17:44.239922Z",
     "iopub.status.idle": "2025-01-09T14:17:44.715264Z",
     "shell.execute_reply": "2025-01-09T14:17:44.714337Z"
    },
    "papermill": {
     "duration": 0.483128,
     "end_time": "2025-01-09T14:17:44.716748",
     "exception": false,
     "start_time": "2025-01-09T14:17:44.233620",
     "status": "completed"
    },
    "tags": []
   },
   "outputs": [
    {
     "name": "stdout",
     "output_type": "stream",
     "text": [
      "Train batch - Images shape: torch.Size([64, 1, 100, 420])\n",
      "Train batch - Labels shape: torch.Size([64, 14])\n"
     ]
    }
   ],
   "source": [
    "train_batch = next(iter(train_loader))\n",
    "img, encoded_label, label_len = train_batch\n",
    "print(\"Train batch - Images shape:\", img.shape)\n",
    "print(\"Train batch - Labels shape:\", encoded_label.shape)"
   ]
  },
  {
   "cell_type": "markdown",
   "id": "d5cabf34",
   "metadata": {
    "papermill": {
     "duration": 0.00597,
     "end_time": "2025-01-09T14:17:44.729280",
     "exception": false,
     "start_time": "2025-01-09T14:17:44.723310",
     "status": "completed"
    },
    "tags": []
   },
   "source": [
    "### Model"
   ]
  },
  {
   "cell_type": "code",
   "execution_count": 15,
   "id": "a673419d",
   "metadata": {
    "execution": {
     "iopub.execute_input": "2025-01-09T14:17:44.742440Z",
     "iopub.status.busy": "2025-01-09T14:17:44.742125Z",
     "iopub.status.idle": "2025-01-09T14:17:44.748444Z",
     "shell.execute_reply": "2025-01-09T14:17:44.747563Z"
    },
    "papermill": {
     "duration": 0.014427,
     "end_time": "2025-01-09T14:17:44.749767",
     "exception": false,
     "start_time": "2025-01-09T14:17:44.735340",
     "status": "completed"
    },
    "tags": []
   },
   "outputs": [
    {
     "name": "stdout",
     "output_type": "stream",
     "text": [
      "Input shape: torch.Size([1, 1, 4, 8])\n",
      "Output shape: torch.Size([1, 1, 1, 8])\n"
     ]
    }
   ],
   "source": [
    "import torch\n",
    "import torch.nn as nn\n",
    "\n",
    "# Tạo tensor đầu vào (batch_size=1, channels=1, height=4, width=8)\n",
    "x = torch.randn(1, 1, 4, 8)\n",
    "\n",
    "# Pooling để chiều cao là 1 (H), chiều rộng giữ nguyên(W)\n",
    "pool = nn.AdaptiveAvgPool2d((1, None))\n",
    "output = pool(x)\n",
    "\n",
    "print(f\"Input shape: {x.shape}\")\n",
    "print(f\"Output shape: {output.shape}\")"
   ]
  },
  {
   "cell_type": "code",
   "execution_count": 16,
   "id": "e4f87c29",
   "metadata": {
    "execution": {
     "iopub.execute_input": "2025-01-09T14:17:44.762744Z",
     "iopub.status.busy": "2025-01-09T14:17:44.762500Z",
     "iopub.status.idle": "2025-01-09T14:17:44.768959Z",
     "shell.execute_reply": "2025-01-09T14:17:44.768341Z"
    },
    "papermill": {
     "duration": 0.014209,
     "end_time": "2025-01-09T14:17:44.770121",
     "exception": false,
     "start_time": "2025-01-09T14:17:44.755912",
     "status": "completed"
    },
    "tags": []
   },
   "outputs": [],
   "source": [
    "class CRNN(nn.Module):\n",
    "    def __init__(\n",
    "        self, vocab_size, hidden_size, n_layers, dropout=0.2, unfreeze_layers=3\n",
    "    ):\n",
    "        super(CRNN, self).__init__()\n",
    "\n",
    "        backbone = timm.create_model(\"resnet152\", in_chans=1, pretrained=True)\n",
    "        modules = list(backbone.children())[:-2]\n",
    "        \n",
    "        # ví dụ từ 1\n",
    "        modules.append(nn.AdaptiveAvgPool2d((1, None)))\n",
    "        self.backbone = nn.Sequential(*modules)\n",
    "\n",
    "        # Unfreeze the last few layers\n",
    "        for parameter in self.backbone[-unfreeze_layers:].parameters():\n",
    "            parameter.requires_grad = True\n",
    "\n",
    "        self.mapSeq = nn.Sequential(\n",
    "            nn.Linear(2048, 512), nn.ReLU(), nn.Dropout(dropout)\n",
    "        )\n",
    "\n",
    "        self.gru = nn.GRU(\n",
    "            512,\n",
    "            hidden_size,\n",
    "            n_layers,\n",
    "            bidirectional=True,\n",
    "            batch_first=True,\n",
    "            dropout=dropout if n_layers > 1 else 0,\n",
    "        )\n",
    "\n",
    "        # vì bidectory nên hidden * 2\n",
    "        self.layer_norm = nn.LayerNorm(hidden_size * 2)\n",
    "\n",
    "        self.out = nn.Sequential(\n",
    "            nn.Linear(hidden_size * 2, vocab_size), nn.LogSoftmax(dim=2)\n",
    "        )\n",
    "\n",
    "    def forward(self, x):\n",
    "        x = self.backbone(x)\n",
    "        # print(x.shape)\n",
    "        x = x.permute(0, 3, 1, 2)\n",
    "        # print(\"after permute(0, 3, 1, 2) : \", x.shape)\n",
    "        x = x.view(x.size(0), x.size(1), -1)  # Flatten the feature map\n",
    "        x = self.mapSeq(x)\n",
    "        x, _ = self.gru(x)\n",
    "        x = self.layer_norm(x)\n",
    "        x = self.out(x)\n",
    "        x = x.permute(1, 0, 2)  # Based on CTC\n",
    "        # print(\"after permute(1, 0, 2) : \", x.shape)\n",
    "        return x"
   ]
  },
  {
   "cell_type": "code",
   "execution_count": 17,
   "id": "3c8eddb1",
   "metadata": {
    "execution": {
     "iopub.execute_input": "2025-01-09T14:17:44.784390Z",
     "iopub.status.busy": "2025-01-09T14:17:44.784128Z",
     "iopub.status.idle": "2025-01-09T14:17:44.800080Z",
     "shell.execute_reply": "2025-01-09T14:17:44.799220Z"
    },
    "papermill": {
     "duration": 0.023857,
     "end_time": "2025-01-09T14:17:44.801373",
     "exception": false,
     "start_time": "2025-01-09T14:17:44.777516",
     "status": "completed"
    },
    "tags": []
   },
   "outputs": [
    {
     "name": "stdout",
     "output_type": "stream",
     "text": [
      "logits torch.Size([50, 16, 20])\n",
      "inputs length tensor([50, 50, 50, 50, 50, 50, 50, 50, 50, 50, 50, 50, 50, 50, 50, 50])\n",
      "target_lengths tensor([22, 18, 22, 19, 19, 20, 20, 26, 29, 26, 24, 24, 12, 19, 19, 26])\n",
      "CTC Loss: 5.457971096038818\n"
     ]
    }
   ],
   "source": [
    "import torch\n",
    "import torch.nn as nn\n",
    "import torch.nn.functional as F\n",
    "\n",
    "# Định nghĩa CTCLoss\n",
    "ctc_loss = nn.CTCLoss(blank=0, reduction='mean', zero_infinity=True)\n",
    "\n",
    "# Logits đầu ra từ mô hình (T, N, C) : T là đầu ra của mô hình (Time step), N : batch size , C là class\n",
    "logits = torch.randn(50, 16, 20).log_softmax(2)  # (T=50, N=16, C=20)\n",
    "print(\"logits\", logits.shape)\n",
    "# Targets: chuỗi nhãn thực tế : Sequence length\n",
    "targets = torch.randint(1, 20, (16, 30), dtype=torch.long)  # (N=16, S=30)\n",
    "\n",
    "# Độ dài của chuỗi đầu vào và chuỗi nhãn\n",
    "input_lengths = torch.full(size=(16,), fill_value=50,\n",
    "                           dtype=torch.long)  # (N=16)\n",
    "print(\"inputs length\", input_lengths)\n",
    "\n",
    "target_lengths = torch.randint(10, 30, (16,), dtype=torch.long)  # (N=16)\n",
    "print(\"target_lengths\", target_lengths)\n",
    "# Tính toán CTCLoss\n",
    "loss = ctc_loss(logits, targets, input_lengths, target_lengths)\n",
    "print(f\"CTC Loss: {loss.item()}\")"
   ]
  },
  {
   "cell_type": "code",
   "execution_count": 18,
   "id": "e4056e2e",
   "metadata": {
    "execution": {
     "iopub.execute_input": "2025-01-09T14:17:44.816467Z",
     "iopub.status.busy": "2025-01-09T14:17:44.816193Z",
     "iopub.status.idle": "2025-01-09T14:17:47.617556Z",
     "shell.execute_reply": "2025-01-09T14:17:47.616820Z"
    },
    "papermill": {
     "duration": 2.809623,
     "end_time": "2025-01-09T14:17:47.619142",
     "exception": false,
     "start_time": "2025-01-09T14:17:44.809519",
     "status": "completed"
    },
    "tags": []
   },
   "outputs": [
    {
     "data": {
      "application/vnd.jupyter.widget-view+json": {
       "model_id": "542fa65d650248409b4f59e3dcec27c8",
       "version_major": 2,
       "version_minor": 0
      },
      "text/plain": [
       "model.safetensors:   0%|          | 0.00/241M [00:00<?, ?B/s]"
      ]
     },
     "metadata": {},
     "output_type": "display_data"
    }
   ],
   "source": [
    "hidden_size = 256\n",
    "n_layers = 3\n",
    "dropout_prob = 0.2\n",
    "unfreeze_layers = 3\n",
    "device = \"cuda\" if torch.cuda.is_available() else \"cpu\"\n",
    "\n",
    "model = CRNN(\n",
    "    vocab_size=vocab_size,\n",
    "    hidden_size=hidden_size,\n",
    "    n_layers=n_layers,\n",
    "    dropout=dropout_prob,\n",
    "    unfreeze_layers=unfreeze_layers,\n",
    ").to(device)"
   ]
  },
  {
   "cell_type": "code",
   "execution_count": 19,
   "id": "75153e52",
   "metadata": {
    "execution": {
     "iopub.execute_input": "2025-01-09T14:17:47.633425Z",
     "iopub.status.busy": "2025-01-09T14:17:47.633154Z",
     "iopub.status.idle": "2025-01-09T14:17:47.637967Z",
     "shell.execute_reply": "2025-01-09T14:17:47.637158Z"
    },
    "papermill": {
     "duration": 0.012859,
     "end_time": "2025-01-09T14:17:47.639164",
     "exception": false,
     "start_time": "2025-01-09T14:17:47.626305",
     "status": "completed"
    },
    "tags": []
   },
   "outputs": [],
   "source": [
    "def evaluate(model, dataloader, criterion, device):\n",
    "    model.eval()\n",
    "    losses = []\n",
    "    with torch.no_grad():\n",
    "        for inputs, labels, labels_len in dataloader:\n",
    "            inputs = inputs.to(device)\n",
    "            labels = labels.to(device)\n",
    "            labels_len = labels_len.to(device)\n",
    "\n",
    "            outputs = model(inputs)\n",
    "            outputs_lens = torch.full(\n",
    "                size=(outputs.size(1),), fill_value=outputs.size(0), dtype=torch.long\n",
    "            ).to(device)\n",
    "\n",
    "            loss = criterion(outputs, labels, outputs_lens, labels_len)\n",
    "            losses.append(loss.item())\n",
    "\n",
    "    loss = sum(losses) / len(losses)\n",
    "\n",
    "    return loss"
   ]
  },
  {
   "cell_type": "code",
   "execution_count": 20,
   "id": "43c7d081",
   "metadata": {
    "execution": {
     "iopub.execute_input": "2025-01-09T14:17:47.652382Z",
     "iopub.status.busy": "2025-01-09T14:17:47.652134Z",
     "iopub.status.idle": "2025-01-09T14:17:47.658437Z",
     "shell.execute_reply": "2025-01-09T14:17:47.657633Z"
    },
    "papermill": {
     "duration": 0.014156,
     "end_time": "2025-01-09T14:17:47.659613",
     "exception": false,
     "start_time": "2025-01-09T14:17:47.645457",
     "status": "completed"
    },
    "tags": []
   },
   "outputs": [],
   "source": [
    "def train(model, train_loader: DataLoader, val_loader: DataLoader, criterion, optimizer: torch.optim, scheduler, device, epochs):\n",
    "    train_losses = []\n",
    "    val_losses = []\n",
    "    best_val_loss = float(\"inf\")  # Khởi tạo giá trị loss tốt nhất\n",
    "    \n",
    "    for epoch in range(epochs):\n",
    "        start = time.time()\n",
    "        running_loss = 0  # Trung bình động cho train_loss\n",
    "\n",
    "        model.train()\n",
    "        for inputs, labels, labels_len in train_loader:\n",
    "            inputs = inputs.to(device)\n",
    "            labels = labels.to(device)\n",
    "            labels_len = labels_len.to(device)\n",
    "\n",
    "            optimizer.zero_grad()\n",
    "            \n",
    "            outputs = model(inputs)\n",
    "            outputs_lens = torch.full(\n",
    "                size=(outputs.size(1),), fill_value=outputs.size(0), dtype=torch.long\n",
    "            ).to(device)\n",
    "\n",
    "            loss = criterion(outputs, labels, outputs_lens, labels_len)\n",
    "            running_loss += loss.item()  # Cập nhật loss\n",
    "\n",
    "            loss.backward()\n",
    "            torch.nn.utils.clip_grad_norm_(model.parameters(), 5)\n",
    "            optimizer.step()\n",
    "\n",
    "        train_loss = running_loss / len(train_loader)\n",
    "        train_losses.append(train_loss)\n",
    "        \n",
    "        val_loss = evaluate(model, val_loader, criterion, device)\n",
    "        val_losses.append(val_loss)\n",
    "        \n",
    "        print(\n",
    "            f\"EPOCH {epoch + 1}:\\tTrain loss: {train_loss:.4f}\\tVal loss: {val_loss:.4f}\\t\\tTime: {time.time() - start:.2f} seconds\"\n",
    "        )\n",
    "        \n",
    "        # Lưu lại mô hình tốt nhất\n",
    "        if val_loss < best_val_loss:\n",
    "            best_val_loss = val_loss\n",
    "            torch.save(model.state_dict(), \"best_model.pth\")\n",
    "        \n",
    "        scheduler.step()\n",
    "\n",
    "    return train_losses, val_losses\n"
   ]
  },
  {
   "cell_type": "markdown",
   "id": "d3f90294",
   "metadata": {
    "papermill": {
     "duration": 0.005997,
     "end_time": "2025-01-09T14:17:47.671792",
     "exception": false,
     "start_time": "2025-01-09T14:17:47.665795",
     "status": "completed"
    },
    "tags": []
   },
   "source": [
    "### Trainning"
   ]
  },
  {
   "cell_type": "code",
   "execution_count": 21,
   "id": "6c44ad0d",
   "metadata": {
    "execution": {
     "iopub.execute_input": "2025-01-09T14:17:47.685120Z",
     "iopub.status.busy": "2025-01-09T14:17:47.684924Z",
     "iopub.status.idle": "2025-01-09T14:17:47.690903Z",
     "shell.execute_reply": "2025-01-09T14:17:47.690287Z"
    },
    "papermill": {
     "duration": 0.013896,
     "end_time": "2025-01-09T14:17:47.691964",
     "exception": false,
     "start_time": "2025-01-09T14:17:47.678068",
     "status": "completed"
    },
    "tags": []
   },
   "outputs": [],
   "source": [
    "epochs = 50\n",
    "lr = 5e-4\n",
    "weight_decay = 1e-5\n",
    "scheduler_step_size = epochs * 0.5\n",
    "\n",
    "criterion = nn.CTCLoss(\n",
    "    blank = labels2idx[blank_char],\n",
    "    zero_infinity = True,\n",
    "    reduction = \"mean\",\n",
    ")\n",
    "\n",
    "optimizer = torch.optim.Adam(\n",
    "    model.parameters(),\n",
    "    lr=lr,\n",
    "    weight_decay=weight_decay\n",
    ")\n",
    "scheduler = torch.optim.lr_scheduler.StepLR(\n",
    "    optimizer, step_size=scheduler_step_size, gamma=0.1\n",
    ")\n"
   ]
  },
  {
   "cell_type": "code",
   "execution_count": 22,
   "id": "cb05e32b",
   "metadata": {
    "execution": {
     "iopub.execute_input": "2025-01-09T14:17:47.704944Z",
     "iopub.status.busy": "2025-01-09T14:17:47.704738Z",
     "iopub.status.idle": "2025-01-09T14:26:42.673028Z",
     "shell.execute_reply": "2025-01-09T14:26:42.672088Z"
    },
    "papermill": {
     "duration": 534.97638,
     "end_time": "2025-01-09T14:26:42.674520",
     "exception": false,
     "start_time": "2025-01-09T14:17:47.698140",
     "status": "completed"
    },
    "tags": []
   },
   "outputs": [
    {
     "name": "stdout",
     "output_type": "stream",
     "text": [
      "EPOCH 1:\tTrain loss: 4.8506\tVal loss: 3.7092\t\tTime: 11.81 seconds\n",
      "EPOCH 2:\tTrain loss: 3.7168\tVal loss: 3.4861\t\tTime: 10.40 seconds\n",
      "EPOCH 3:\tTrain loss: 3.5009\tVal loss: 3.4149\t\tTime: 10.40 seconds\n",
      "EPOCH 4:\tTrain loss: 3.2850\tVal loss: 3.3440\t\tTime: 10.33 seconds\n",
      "EPOCH 5:\tTrain loss: 3.0376\tVal loss: 2.8952\t\tTime: 10.50 seconds\n",
      "EPOCH 6:\tTrain loss: 2.6503\tVal loss: 2.4714\t\tTime: 10.32 seconds\n",
      "EPOCH 7:\tTrain loss: 2.2329\tVal loss: 2.1445\t\tTime: 10.46 seconds\n",
      "EPOCH 8:\tTrain loss: 1.7730\tVal loss: 1.7085\t\tTime: 10.31 seconds\n",
      "EPOCH 9:\tTrain loss: 1.3476\tVal loss: 1.4509\t\tTime: 10.29 seconds\n",
      "EPOCH 10:\tTrain loss: 1.0072\tVal loss: 1.1470\t\tTime: 10.53 seconds\n",
      "EPOCH 11:\tTrain loss: 0.7377\tVal loss: 1.0619\t\tTime: 10.37 seconds\n",
      "EPOCH 12:\tTrain loss: 0.5931\tVal loss: 0.8607\t\tTime: 10.35 seconds\n",
      "EPOCH 13:\tTrain loss: 0.4654\tVal loss: 0.9575\t\tTime: 10.45 seconds\n",
      "EPOCH 14:\tTrain loss: 0.3846\tVal loss: 0.8335\t\tTime: 10.32 seconds\n",
      "EPOCH 15:\tTrain loss: 0.3140\tVal loss: 0.9097\t\tTime: 10.31 seconds\n",
      "EPOCH 16:\tTrain loss: 0.2656\tVal loss: 0.9527\t\tTime: 10.33 seconds\n",
      "EPOCH 17:\tTrain loss: 0.2208\tVal loss: 0.9053\t\tTime: 10.32 seconds\n",
      "EPOCH 18:\tTrain loss: 0.2061\tVal loss: 0.8696\t\tTime: 10.25 seconds\n",
      "EPOCH 19:\tTrain loss: 0.2104\tVal loss: 0.8882\t\tTime: 10.49 seconds\n",
      "EPOCH 20:\tTrain loss: 0.1541\tVal loss: 0.8497\t\tTime: 10.30 seconds\n",
      "EPOCH 21:\tTrain loss: 0.1752\tVal loss: 0.8693\t\tTime: 10.42 seconds\n",
      "EPOCH 22:\tTrain loss: 0.1239\tVal loss: 0.9621\t\tTime: 10.32 seconds\n",
      "EPOCH 23:\tTrain loss: 0.1300\tVal loss: 0.8388\t\tTime: 10.69 seconds\n",
      "EPOCH 24:\tTrain loss: 0.1199\tVal loss: 0.8956\t\tTime: 10.45 seconds\n",
      "EPOCH 25:\tTrain loss: 0.1068\tVal loss: 0.8734\t\tTime: 10.48 seconds\n",
      "EPOCH 26:\tTrain loss: 0.0733\tVal loss: 0.8413\t\tTime: 10.34 seconds\n",
      "EPOCH 27:\tTrain loss: 0.0654\tVal loss: 0.8191\t\tTime: 10.36 seconds\n",
      "EPOCH 28:\tTrain loss: 0.0640\tVal loss: 0.8063\t\tTime: 10.53 seconds\n",
      "EPOCH 29:\tTrain loss: 0.0490\tVal loss: 0.8100\t\tTime: 10.37 seconds\n",
      "EPOCH 30:\tTrain loss: 0.0694\tVal loss: 0.8060\t\tTime: 10.35 seconds\n",
      "EPOCH 31:\tTrain loss: 0.0512\tVal loss: 0.8099\t\tTime: 10.48 seconds\n",
      "EPOCH 32:\tTrain loss: 0.0398\tVal loss: 0.8016\t\tTime: 10.34 seconds\n",
      "EPOCH 33:\tTrain loss: 0.0538\tVal loss: 0.8010\t\tTime: 10.43 seconds\n",
      "EPOCH 34:\tTrain loss: 0.0530\tVal loss: 0.8083\t\tTime: 10.55 seconds\n",
      "EPOCH 35:\tTrain loss: 0.0708\tVal loss: 0.8105\t\tTime: 10.45 seconds\n",
      "EPOCH 36:\tTrain loss: 0.0416\tVal loss: 0.8112\t\tTime: 10.34 seconds\n",
      "EPOCH 37:\tTrain loss: 0.0387\tVal loss: 0.8078\t\tTime: 10.46 seconds\n",
      "EPOCH 38:\tTrain loss: 0.0391\tVal loss: 0.8115\t\tTime: 10.33 seconds\n",
      "EPOCH 39:\tTrain loss: 0.0543\tVal loss: 0.7980\t\tTime: 10.32 seconds\n",
      "EPOCH 40:\tTrain loss: 0.0519\tVal loss: 0.7864\t\tTime: 10.51 seconds\n",
      "EPOCH 41:\tTrain loss: 0.0509\tVal loss: 0.8053\t\tTime: 10.37 seconds\n",
      "EPOCH 42:\tTrain loss: 0.0539\tVal loss: 0.8043\t\tTime: 10.27 seconds\n",
      "EPOCH 43:\tTrain loss: 0.0467\tVal loss: 0.8000\t\tTime: 10.49 seconds\n",
      "EPOCH 44:\tTrain loss: 0.0348\tVal loss: 0.7979\t\tTime: 10.30 seconds\n",
      "EPOCH 45:\tTrain loss: 0.0307\tVal loss: 0.8059\t\tTime: 10.51 seconds\n",
      "EPOCH 46:\tTrain loss: 0.0549\tVal loss: 0.8144\t\tTime: 10.93 seconds\n",
      "EPOCH 47:\tTrain loss: 0.0311\tVal loss: 0.8222\t\tTime: 11.04 seconds\n",
      "EPOCH 48:\tTrain loss: 0.0434\tVal loss: 0.8365\t\tTime: 10.72 seconds\n",
      "EPOCH 49:\tTrain loss: 0.0350\tVal loss: 0.8415\t\tTime: 10.38 seconds\n",
      "EPOCH 50:\tTrain loss: 0.0383\tVal loss: 0.8388\t\tTime: 10.29 seconds\n"
     ]
    }
   ],
   "source": [
    "device = torch.device(\"cuda\" if torch.cuda.is_available() else \"cpu\")\n",
    "train_losses, val_losses = train(model, train_loader, val_loader, criterion, optimizer,scheduler, device, epochs)"
   ]
  },
  {
   "cell_type": "markdown",
   "id": "98a790b6",
   "metadata": {
    "papermill": {
     "duration": 0.008202,
     "end_time": "2025-01-09T14:26:42.691589",
     "exception": false,
     "start_time": "2025-01-09T14:26:42.683387",
     "status": "completed"
    },
    "tags": []
   },
   "source": [
    "### Evaluation"
   ]
  },
  {
   "cell_type": "code",
   "execution_count": 23,
   "id": "22c4c9be",
   "metadata": {
    "execution": {
     "iopub.execute_input": "2025-01-09T14:26:42.709739Z",
     "iopub.status.busy": "2025-01-09T14:26:42.709492Z",
     "iopub.status.idle": "2025-01-09T14:26:45.163573Z",
     "shell.execute_reply": "2025-01-09T14:26:45.162681Z"
    },
    "papermill": {
     "duration": 2.46481,
     "end_time": "2025-01-09T14:26:45.164908",
     "exception": false,
     "start_time": "2025-01-09T14:26:42.700098",
     "status": "completed"
    },
    "tags": []
   },
   "outputs": [
    {
     "name": "stdout",
     "output_type": "stream",
     "text": [
      "Evaluation on val / test dataset\n",
      "Val loss: 0.8388271331787109\n",
      "Test loss: 0.8388271331787109\n"
     ]
    }
   ],
   "source": [
    "val_loss = evaluate(model, val_loader, criterion, device)\n",
    "test_loss = evaluate(model, test_loader, criterion, device)\n",
    "\n",
    "print(\"Evaluation on val / test dataset\")\n",
    "print(\"Val loss:\", val_loss)\n",
    "print(\"Test loss:\", test_loss)"
   ]
  },
  {
   "cell_type": "markdown",
   "id": "8d1012c3",
   "metadata": {
    "papermill": {
     "duration": 0.008403,
     "end_time": "2025-01-09T14:26:45.182107",
     "exception": false,
     "start_time": "2025-01-09T14:26:45.173704",
     "status": "completed"
    },
    "tags": []
   },
   "source": [
    "### Lưu model"
   ]
  },
  {
   "cell_type": "code",
   "execution_count": 24,
   "id": "1de875aa",
   "metadata": {
    "execution": {
     "iopub.execute_input": "2025-01-09T14:26:45.199913Z",
     "iopub.status.busy": "2025-01-09T14:26:45.199683Z",
     "iopub.status.idle": "2025-01-09T14:26:45.577918Z",
     "shell.execute_reply": "2025-01-09T14:26:45.577205Z"
    },
    "papermill": {
     "duration": 0.389058,
     "end_time": "2025-01-09T14:26:45.579630",
     "exception": false,
     "start_time": "2025-01-09T14:26:45.190572",
     "status": "completed"
    },
    "tags": []
   },
   "outputs": [],
   "source": [
    "save_model_path = \"ocr_crnn.pt\"\n",
    "torch.save(model.state_dict(), save_model_path)"
   ]
  },
  {
   "cell_type": "code",
   "execution_count": 25,
   "id": "44881f71",
   "metadata": {
    "execution": {
     "iopub.execute_input": "2025-01-09T14:26:45.598020Z",
     "iopub.status.busy": "2025-01-09T14:26:45.597778Z",
     "iopub.status.idle": "2025-01-09T14:26:45.958786Z",
     "shell.execute_reply": "2025-01-09T14:26:45.957934Z"
    },
    "papermill": {
     "duration": 0.371407,
     "end_time": "2025-01-09T14:26:45.960006",
     "exception": false,
     "start_time": "2025-01-09T14:26:45.588599",
     "status": "completed"
    },
    "tags": []
   },
   "outputs": [
    {
     "data": {
      "image/png": "[encoded data removed]",
      "text/plain": [
       "<Figure size 1200x500 with 2 Axes>"
      ]
     },
     "metadata": {},
     "output_type": "display_data"
    }
   ],
   "source": [
    "epoch_range = list(range(1, epochs + 1)) \n",
    "# Tạo biểu đồ\n",
    "plt.figure(figsize=(12, 5))\n",
    "\n",
    "# Training Loss\n",
    "plt.subplot(1, 2, 1)\n",
    "plt.plot(epoch_range, train_losses, label=\"Train Loss\", color=\"blue\")\n",
    "plt.title(\"Training Loss\")\n",
    "plt.xlabel(\"Epoch\")\n",
    "plt.ylabel(\"Loss\")\n",
    "plt.grid()\n",
    "plt.legend()\n",
    "\n",
    "# Validation Loss\n",
    "plt.subplot(1, 2, 2)\n",
    "plt.plot(epoch_range, val_losses, label=\"Val Loss\", color=\"orange\")\n",
    "plt.title(\"Validation Loss\")\n",
    "plt.xlabel(\"Epoch\")\n",
    "plt.ylabel(\"Loss\")\n",
    "plt.grid()\n",
    "plt.legend()\n",
    "\n",
    "# Hiển thị biểu đồ\n",
    "plt.tight_layout()\n",
    "plt.show()"
   ]
  }
 ],
 "metadata": {
  "kaggle": {
   "accelerator": "gpu",
   "dataSources": [
    {
     "datasetId": 6419712,
     "sourceId": 10364947,
     "sourceType": "datasetVersion"
    }
   ],
   "dockerImageVersionId": 30822,
   "isGpuEnabled": true,
   "isInternetEnabled": true,
   "language": "python",
   "sourceType": "notebook"
  },
  "kernelspec": {
   "display_name": "Python 3",
   "language": "python",
   "name": "python3"
  },
  "language_info": {
   "codemirror_mode": {
    "name": "ipython",
    "version": 3
   },
   "file_extension": ".py",
   "mimetype": "text/x-python",
   "name": "python",
   "nbconvert_exporter": "python",
   "pygments_lexer": "ipython3",
   "version": "3.10.12"
  },
  "papermill": {
   "default_parameters": {},
   "duration": 566.525272,
   "end_time": "2025-01-09T14:26:47.791835",
   "environment_variables": {},
   "exception": null,
   "input_path": "__notebook__.ipynb",
   "output_path": "__notebook__.ipynb",
   "parameters": {},
   "start_time": "2025-01-09T14:17:21.266563",
   "version": "2.6.0"
  },
  "widgets": {
   "application/vnd.jupyter.widget-state+json": {
    "state": {
     "43987548f9dd49859d265e1889f18899": {
      "model_module": "@jupyter-widgets/base",
      "model_module_version": "2.0.0",
      "model_name": "LayoutModel",
      "state": {
       "_model_module": "@jupyter-widgets/base",
       "_model_module_version": "2.0.0",
       "_model_name": "LayoutModel",
       "_view_count": null,
       "_view_module": "@jupyter-widgets/base",
       "_view_module_version": "2.0.0",
       "_view_name": "LayoutView",
       "align_content": null,
       "align_items": null,
       "align_self": null,
       "border_bottom": null,
       "border_left": null,
       "border_right": null,
       "border_top": null,
       "bottom": null,
       "display": null,
       "flex": null,
       "flex_flow": null,
       "grid_area": null,
       "grid_auto_columns": null,
       "grid_auto_flow": null,
       "grid_auto_rows": null,
       "grid_column": null,
       "grid_gap": null,
       "grid_row": null,
       "grid_template_areas": null,
       "grid_template_columns": null,
       "grid_template_rows": null,
       "height": null,
       "justify_content": null,
       "justify_items": null,
       "left": null,
       "margin": null,
       "max_height": null,
       "max_width": null,
       "min_height": null,
       "min_width": null,
       "object_fit": null,
       "object_position": null,
       "order": null,
       "overflow": null,
       "padding": null,
       "right": null,
       "top": null,
       "visibility": null,
       "width": null
      }
     },
     "4e39a0e311444eadad2c74c3af90e03a": {
      "model_module": "@jupyter-widgets/controls",
      "model_module_version": "2.0.0",
      "model_name": "HTMLModel",
      "state": {
       "_dom_classes": [],
       "_model_module": "@jupyter-widgets/controls",
       "_model_module_version": "2.0.0",
       "_model_name": "HTMLModel",
       "_view_count": null,
       "_view_module": "@jupyter-widgets/controls",
       "_view_module_version": "2.0.0",
       "_view_name": "HTMLView",
       "description": "",
       "description_allow_html": false,
       "layout": "IPY_MODEL_43987548f9dd49859d265e1889f18899",
       "placeholder": "​",
       "style": "IPY_MODEL_58f249fbd1fe41198c6c5cf0b62c6f09",
       "tabbable": null,
       "tooltip": null,
       "value": "model.safetensors: 100%"
      }
     },
     "542fa65d650248409b4f59e3dcec27c8": {
      "model_module": "@jupyter-widgets/controls",
      "model_module_version": "2.0.0",
      "model_name": "HBoxModel",
      "state": {
       "_dom_classes": [],
       "_model_module": "@jupyter-widgets/controls",
       "_model_module_version": "2.0.0",
       "_model_name": "HBoxModel",
       "_view_count": null,
       "_view_module": "@jupyter-widgets/controls",
       "_view_module_version": "2.0.0",
       "_view_name": "HBoxView",
       "box_style": "",
       "children": [
        "IPY_MODEL_4e39a0e311444eadad2c74c3af90e03a",
        "IPY_MODEL_655f356ad8f2467789297e70eef21590",
        "IPY_MODEL_7b727a0d98684886baff3f02ec9b979b"
       ],
       "layout": "IPY_MODEL_a5f51e3693574923a05f322405cbafcb",
       "tabbable": null,
       "tooltip": null
      }
     },
     "571a8b3e6b5a4f61a3667a753411d0a6": {
      "model_module": "@jupyter-widgets/controls",
      "model_module_version": "2.0.0",
      "model_name": "ProgressStyleModel",
      "state": {
       "_model_module": "@jupyter-widgets/controls",
       "_model_module_version": "2.0.0",
       "_model_name": "ProgressStyleModel",
       "_view_count": null,
       "_view_module": "@jupyter-widgets/base",
       "_view_module_version": "2.0.0",
       "_view_name": "StyleView",
       "bar_color": null,
       "description_width": ""
      }
     },
     "58f249fbd1fe41198c6c5cf0b62c6f09": {
      "model_module": "@jupyter-widgets/controls",
      "model_module_version": "2.0.0",
      "model_name": "HTMLStyleModel",
      "state": {
       "_model_module": "@jupyter-widgets/controls",
       "_model_module_version": "2.0.0",
       "_model_name": "HTMLStyleModel",
       "_view_count": null,
       "_view_module": "@jupyter-widgets/base",
       "_view_module_version": "2.0.0",
       "_view_name": "StyleView",
       "background": null,
       "description_width": "",
       "font_size": null,
       "text_color": null
      }
     },
     "655f356ad8f2467789297e70eef21590": {
      "model_module": "@jupyter-widgets/controls",
      "model_module_version": "2.0.0",
      "model_name": "FloatProgressModel",
      "state": {
       "_dom_classes": [],
       "_model_module": "@jupyter-widgets/controls",
       "_model_module_version": "2.0.0",
       "_model_name": "FloatProgressModel",
       "_view_count": null,
       "_view_module": "@jupyter-widgets/controls",
       "_view_module_version": "2.0.0",
       "_view_name": "ProgressView",
       "bar_style": "success",
       "description": "",
       "description_allow_html": false,
       "layout": "IPY_MODEL_da8147ec86bc44628025591227122498",
       "max": 241463512.0,
       "min": 0.0,
       "orientation": "horizontal",
       "style": "IPY_MODEL_571a8b3e6b5a4f61a3667a753411d0a6",
       "tabbable": null,
       "tooltip": null,
       "value": 241463512.0
      }
     },
     "7b727a0d98684886baff3f02ec9b979b": {
      "model_module": "@jupyter-widgets/controls",
      "model_module_version": "2.0.0",
      "model_name": "HTMLModel",
      "state": {
       "_dom_classes": [],
       "_model_module": "@jupyter-widgets/controls",
       "_model_module_version": "2.0.0",
       "_model_name": "HTMLModel",
       "_view_count": null,
       "_view_module": "@jupyter-widgets/controls",
       "_view_module_version": "2.0.0",
       "_view_name": "HTMLView",
       "description": "",
       "description_allow_html": false,
       "layout": "IPY_MODEL_a132ab769a0e4520b9a9aba2bc6915aa",
       "placeholder": "​",
       "style": "IPY_MODEL_b112716521974764b5be0db60c9049c6",
       "tabbable": null,
       "tooltip": null,
       "value": " 241M/241M [00:01&lt;00:00, 221MB/s]"
      }
     },
     "a132ab769a0e4520b9a9aba2bc6915aa": {
      "model_module": "@jupyter-widgets/base",
      "model_module_version": "2.0.0",
      "model_name": "LayoutModel",
      "state": {
       "_model_module": "@jupyter-widgets/base",
       "_model_module_version": "2.0.0",
       "_model_name": "LayoutModel",
       "_view_count": null,
       "_view_module": "@jupyter-widgets/base",
       "_view_module_version": "2.0.0",
       "_view_name": "LayoutView",
       "align_content": null,
       "align_items": null,
       "align_self": null,
       "border_bottom": null,
       "border_left": null,
       "border_right": null,
       "border_top": null,
       "bottom": null,
       "display": null,
       "flex": null,
       "flex_flow": null,
       "grid_area": null,
       "grid_auto_columns": null,
       "grid_auto_flow": null,
       "grid_auto_rows": null,
       "grid_column": null,
       "grid_gap": null,
       "grid_row": null,
       "grid_template_areas": null,
       "grid_template_columns": null,
       "grid_template_rows": null,
       "height": null,
       "justify_content": null,
       "justify_items": null,
       "left": null,
       "margin": null,
       "max_height": null,
       "max_width": null,
       "min_height": null,
       "min_width": null,
       "object_fit": null,
       "object_position": null,
       "order": null,
       "overflow": null,
       "padding": null,
       "right": null,
       "top": null,
       "visibility": null,
       "width": null
      }
     },
     "a5f51e3693574923a05f322405cbafcb": {
      "model_module": "@jupyter-widgets/base",
      "model_module_version": "2.0.0",
      "model_name": "LayoutModel",
      "state": {
       "_model_module": "@jupyter-widgets/base",
       "_model_module_version": "2.0.0",
       "_model_name": "LayoutModel",
       "_view_count": null,
       "_view_module": "@jupyter-widgets/base",
       "_view_module_version": "2.0.0",
       "_view_name": "LayoutView",
       "align_content": null,
       "align_items": null,
       "align_self": null,
       "border_bottom": null,
       "border_left": null,
       "border_right": null,
       "border_top": null,
       "bottom": null,
       "display": null,
       "flex": null,
       "flex_flow": null,
       "grid_area": null,
       "grid_auto_columns": null,
       "grid_auto_flow": null,
       "grid_auto_rows": null,
       "grid_column": null,
       "grid_gap": null,
       "grid_row": null,
       "grid_template_areas": null,
       "grid_template_columns": null,
       "grid_template_rows": null,
       "height": null,
       "justify_content": null,
       "justify_items": null,
       "left": null,
       "margin": null,
       "max_height": null,
       "max_width": null,
       "min_height": null,
       "min_width": null,
       "object_fit": null,
       "object_position": null,
       "order": null,
       "overflow": null,
       "padding": null,
       "right": null,
       "top": null,
       "visibility": null,
       "width": null
      }
     },
     "b112716521974764b5be0db60c9049c6": {
      "model_module": "@jupyter-widgets/controls",
      "model_module_version": "2.0.0",
      "model_name": "HTMLStyleModel",
      "state": {
       "_model_module": "@jupyter-widgets/controls",
       "_model_module_version": "2.0.0",
       "_model_name": "HTMLStyleModel",
       "_view_count": null,
       "_view_module": "@jupyter-widgets/base",
       "_view_module_version": "2.0.0",
       "_view_name": "StyleView",
       "background": null,
       "description_width": "",
       "font_size": null,
       "text_color": null
      }
     },
     "da8147ec86bc44628025591227122498": {
      "model_module": "@jupyter-widgets/base",
      "model_module_version": "2.0.0",
      "model_name": "LayoutModel",
      "state": {
       "_model_module": "@jupyter-widgets/base",
       "_model_module_version": "2.0.0",
       "_model_name": "LayoutModel",
       "_view_count": null,
       "_view_module": "@jupyter-widgets/base",
       "_view_module_version": "2.0.0",
       "_view_name": "LayoutView",
       "align_content": null,
       "align_items": null,
       "align_self": null,
       "border_bottom": null,
       "border_left": null,
       "border_right": null,
       "border_top": null,
       "bottom": null,
       "display": null,
       "flex": null,
       "flex_flow": null,
       "grid_area": null,
       "grid_auto_columns": null,
       "grid_auto_flow": null,
       "grid_auto_rows": null,
       "grid_column": null,
       "grid_gap": null,
       "grid_row": null,
       "grid_template_areas": null,
       "grid_template_columns": null,
       "grid_template_rows": null,
       "height": null,
       "justify_content": null,
       "justify_items": null,
       "left": null,
       "margin": null,
       "max_height": null,
       "max_width": null,
       "min_height": null,
       "min_width": null,
       "object_fit": null,
       "object_position": null,
       "order": null,
       "overflow": null,
       "padding": null,
       "right": null,
       "top": null,
       "visibility": null,
       "width": null
      }
     }
    },
    "version_major": 2,
    "version_minor": 0
   }
  }
 },
 "nbformat": 4,
 "nbformat_minor": 5
}
